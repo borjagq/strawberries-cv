{
  "nbformat": 4,
  "nbformat_minor": 0,
  "metadata": {
    "colab": {
      "provenance": []
    },
    "kernelspec": {
      "name": "python3",
      "display_name": "Python 3"
    },
    "language_info": {
      "name": "python"
    }
  },
  "cells": [
    {
      "cell_type": "code",
      "source": [
        "from PIL import Image\n",
        "import glob\n",
        "import cv2\n",
        "import os\n",
        "import numpy as np\n",
        "import matplotlib.pyplot as plt"
      ],
      "metadata": {
        "id": "GQJ_bnVyZkDf"
      },
      "execution_count": 5,
      "outputs": []
    },
    {
      "cell_type": "markdown",
      "source": [
        "Load the images and the filename"
      ],
      "metadata": {
        "id": "B1MZ3empZliX"
      }
    },
    {
      "cell_type": "code",
      "source": [
        "DIR = '/content/drive/MyDrive/CV/strawberries/'\n",
        "image_list = []\n",
        "labels = []\n",
        "for pth in os.listdir(DIR):\n",
        "    fn = DIR + pth\n",
        "    im = cv2.imread(fn)\n",
        "    labels.append(fn)\n",
        "    image_list.append(im.copy())"
      ],
      "metadata": {
        "id": "I9qNuAg7Kgqc"
      },
      "execution_count": 2,
      "outputs": []
    },
    {
      "cell_type": "code",
      "source": [
        "plt.imshow(cv2.cvtColor(image_list[2], cv2.COLOR_BGR2RGB))"
      ],
      "metadata": {
        "colab": {
          "base_uri": "https://localhost:8080/",
          "height": 286
        },
        "id": "7yMne1NTKm7s",
        "outputId": "ab24249f-d23a-4e14-d22f-21f5b41098aa"
      },
      "execution_count": 3,
      "outputs": [
        {
          "output_type": "execute_result",
          "data": {
            "text/plain": [
              "<matplotlib.image.AxesImage at 0x7f548a79b430>"
            ]
          },
          "metadata": {},
          "execution_count": 3
        },
        {
          "output_type": "display_data",
          "data": {
            "text/plain": [
              "<Figure size 432x288 with 1 Axes>"
            ],
            "image/png": "[encoded data removed]"
          },
          "metadata": {
            "needs_background": "light"
          }
        }
      ]
    },
    {
      "cell_type": "code",
      "source": [
        "len(image_list)"
      ],
      "metadata": {
        "colab": {
          "base_uri": "https://localhost:8080/"
        },
        "id": "fpWka8orhmkq",
        "outputId": "22f3f30b-07c7-4494-e4bb-a7673b6f289d"
      },
      "execution_count": 4,
      "outputs": [
        {
          "output_type": "execute_result",
          "data": {
            "text/plain": [
              "157"
            ]
          },
          "metadata": {},
          "execution_count": 4
        }
      ]
    },
    {
      "cell_type": "code",
      "source": [
        "ImageMatrix = [np.array(x) for x in image_list]"
      ],
      "metadata": {
        "id": "Qre4Bq8cKn8i"
      },
      "execution_count": 4,
      "outputs": []
    },
    {
      "cell_type": "markdown",
      "source": [
        "Get the Y vector by parsing the filenames"
      ],
      "metadata": {
        "id": "7aWwt_T7Zt8C"
      }
    },
    {
      "cell_type": "code",
      "source": [],
      "metadata": {
        "id": "wyAcbjrMhkxh"
      },
      "execution_count": null,
      "outputs": []
    },
    {
      "cell_type": "code",
      "source": [
        "Y = np.array([int(x[-5]) for x in labels])\n",
        "Y.shape"
      ],
      "metadata": {
        "colab": {
          "base_uri": "https://localhost:8080/"
        },
        "id": "m2ayt5SvMRj3",
        "outputId": "e71be60d-998e-4283-ddb9-e795d6bf50e4"
      },
      "execution_count": 5,
      "outputs": [
        {
          "output_type": "execute_result",
          "data": {
            "text/plain": [
              "(157,)"
            ]
          },
          "metadata": {},
          "execution_count": 5
        }
      ]
    },
    {
      "cell_type": "code",
      "source": [
        "X = []\n",
        "for img in ImageMatrix:\n",
        "    img = cv2.cvtColor(img, cv2.COLOR_BGR2HSV)\n",
        "    hue = img[:, :, 0].flatten()\n",
        "    light = img[:, :, 2].flatten()\n",
        "    red_count = 0\n",
        "    pixel_count = 0\n",
        "    for i, val in enumerate(hue):\n",
        "        if light[i] == 0:\n",
        "            continue\n",
        "        \n",
        "        pixel_count += 1\n",
        "        h = hue[i]\n",
        "        if (h <= 10 and h >= 0) or (h >= 160 and h<= 180):\n",
        "            red_count += 1\n",
        "    X.append(red_count/pixel_count)"
      ],
      "metadata": {
        "colab": {
          "base_uri": "https://localhost:8080/",
          "height": 236
        },
        "id": "Og8TkQNFccal",
        "outputId": "4c9b898a-b0cb-4372-dd98-fcb266281e1e"
      },
      "execution_count": 6,
      "outputs": [
        {
          "output_type": "error",
          "ename": "KeyboardInterrupt",
          "evalue": "ignored",
          "traceback": [
            "\u001b[0;31m---------------------------------------------------------------------------\u001b[0m",
            "\u001b[0;31mKeyboardInterrupt\u001b[0m                         Traceback (most recent call last)",
            "\u001b[0;32m<ipython-input-6-c783ef74b2f6>\u001b[0m in \u001b[0;36m<module>\u001b[0;34m\u001b[0m\n\u001b[1;32m      7\u001b[0m     \u001b[0mpixel_count\u001b[0m \u001b[0;34m=\u001b[0m \u001b[0;36m0\u001b[0m\u001b[0;34m\u001b[0m\u001b[0;34m\u001b[0m\u001b[0m\n\u001b[1;32m      8\u001b[0m     \u001b[0;32mfor\u001b[0m \u001b[0mi\u001b[0m\u001b[0;34m,\u001b[0m \u001b[0mval\u001b[0m \u001b[0;32min\u001b[0m \u001b[0menumerate\u001b[0m\u001b[0;34m(\u001b[0m\u001b[0mhue\u001b[0m\u001b[0;34m)\u001b[0m\u001b[0;34m:\u001b[0m\u001b[0;34m\u001b[0m\u001b[0;34m\u001b[0m\u001b[0m\n\u001b[0;32m----> 9\u001b[0;31m         \u001b[0;32mif\u001b[0m \u001b[0mlight\u001b[0m\u001b[0;34m[\u001b[0m\u001b[0mi\u001b[0m\u001b[0;34m]\u001b[0m \u001b[0;34m==\u001b[0m \u001b[0;36m0\u001b[0m\u001b[0;34m:\u001b[0m\u001b[0;34m\u001b[0m\u001b[0;34m\u001b[0m\u001b[0m\n\u001b[0m\u001b[1;32m     10\u001b[0m             \u001b[0;32mcontinue\u001b[0m\u001b[0;34m\u001b[0m\u001b[0;34m\u001b[0m\u001b[0m\n\u001b[1;32m     11\u001b[0m \u001b[0;34m\u001b[0m\u001b[0m\n",
            "\u001b[0;31mKeyboardInterrupt\u001b[0m: "
          ]
        }
      ]
    },
    {
      "cell_type": "code",
      "source": [
        "X"
      ],
      "metadata": {
        "colab": {
          "base_uri": "https://localhost:8080/"
        },
        "id": "b_r8yaWXct_x",
        "outputId": "563ddd47-8c1b-467f-8bd5-69cfafebd99b"
      },
      "execution_count": 6,
      "outputs": [
        {
          "output_type": "execute_result",
          "data": {
            "text/plain": [
              "[0.16937669376693767,\n",
              " 0.3247086247086247,\n",
              " 0.17381725417439703,\n",
              " 0.7580936878278169,\n",
              " 0.024922118380062305,\n",
              " 0.0551247709008882,\n",
              " 0.01485148514851485,\n",
              " 0.9607903201102772,\n",
              " 0.9068822974835014,\n",
              " 0.0,\n",
              " 0.0,\n",
              " 0.0,\n",
              " 0.042116630669546434,\n",
              " 0.7657739906674782,\n",
              " 0.0,\n",
              " 0.0,\n",
              " 0.0010897203051216855,\n",
              " 0.001466275659824047,\n",
              " 0.0,\n",
              " 0.3157279738256602,\n",
              " 0.0007329587099926704,\n",
              " 0.0,\n",
              " 0.0,\n",
              " 0.0,\n",
              " 0.0,\n",
              " 0.0,\n",
              " 0.9705292393149205,\n",
              " 0.0,\n",
              " 0.0,\n",
              " 0.0,\n",
              " 0.9482758620689655,\n",
              " 0.0029455081001472753,\n",
              " 0.0005716735743890238,\n",
              " 0.0,\n",
              " 0.0,\n",
              " 0.0,\n",
              " 0.7082936129647283,\n",
              " 0.8702702702702703,\n",
              " 0.005447470817120622,\n",
              " 0.3128595600676819,\n",
              " 0.7654137129921963,\n",
              " 0.0,\n",
              " 0.0,\n",
              " 0.00010098969905069682,\n",
              " 0.0,\n",
              " 0.0,\n",
              " 0.0,\n",
              " 0.27740828148465996,\n",
              " 0.42312971859986276,\n",
              " 0.6543846720707442,\n",
              " 0.0,\n",
              " 0.0,\n",
              " 0.0,\n",
              " 0.0,\n",
              " 0.000945179584120983,\n",
              " 0.0014794408733802672,\n",
              " 0.0,\n",
              " 0.0,\n",
              " 0.0,\n",
              " 0.0,\n",
              " 0.8790806129247168,\n",
              " 0.47118202539889287,\n",
              " 0.7344827586206897,\n",
              " 0.0,\n",
              " 0.0,\n",
              " 0.0013357928884930985,\n",
              " 0.0,\n",
              " 0.0005518154729058603,\n",
              " 0.8544563552833078,\n",
              " 0.0,\n",
              " 0.0,\n",
              " 0.0,\n",
              " 0.00024764735017335313,\n",
              " 0.0012531328320802004,\n",
              " 0.0,\n",
              " 0.725304000343746,\n",
              " 0.0041025641025641026,\n",
              " 0.001875293014533521,\n",
              " 0.0020455873758036236,\n",
              " 0.18952734012974976,\n",
              " 0.6046921124864053,\n",
              " 0.0,\n",
              " 0.0006441915396177797,\n",
              " 0.0,\n",
              " 0.1076923076923077,\n",
              " 0.0014035087719298245,\n",
              " 0.32133115111838517,\n",
              " 0.0008087343307723412,\n",
              " 0.0,\n",
              " 0.0,\n",
              " 0.0,\n",
              " 0.10101010101010101,\n",
              " 0.10046511627906977,\n",
              " 0.5737908621678456,\n",
              " 0.015647145529791937,\n",
              " 0.6960120391271633,\n",
              " 0.0,\n",
              " 0.0,\n",
              " 0.0,\n",
              " 0.0,\n",
              " 0.0,\n",
              " 0.5549538461538461,\n",
              " 0.0,\n",
              " 0.0,\n",
              " 0.0,\n",
              " 0.0,\n",
              " 0.0,\n",
              " 0.0,\n",
              " 0.8838761885494639,\n",
              " 0.0,\n",
              " 0.0,\n",
              " 0.0006906077348066298,\n",
              " 0.0,\n",
              " 0.8354430379746836,\n",
              " 0.003296490207484972,\n",
              " 0.7149115690410515,\n",
              " 0.0,\n",
              " 0.0,\n",
              " 0.0,\n",
              " 0.0,\n",
              " 0.50233975405376,\n",
              " 0.0,\n",
              " 0.0,\n",
              " 0.0,\n",
              " 0.0028149190710767065,\n",
              " 0.6677605875918112,\n",
              " 0.0,\n",
              " 0.0,\n",
              " 0.4413470342862957,\n",
              " 0.0,\n",
              " 0.001749271137026239,\n",
              " 0.0,\n",
              " 0.02405887347863006,\n",
              " 0.0,\n",
              " 0.0,\n",
              " 0.0,\n",
              " 0.00012043839576056847,\n",
              " 0.0,\n",
              " 0.0,\n",
              " 0.3185921608958976,\n",
              " 0.0,\n",
              " 0.0,\n",
              " 0.0,\n",
              " 0.0013895321908290875,\n",
              " 0.0,\n",
              " 0.0,\n",
              " 0.0,\n",
              " 0.08417770849571317,\n",
              " 0.0,\n",
              " 0.0,\n",
              " 0.0,\n",
              " 0.13290760327279985,\n",
              " 0.0,\n",
              " 0.6079084464941498,\n",
              " 0.002856598743096553,\n",
              " 0.0,\n",
              " 0.825038219806353]"
            ]
          },
          "metadata": {},
          "execution_count": 6
        }
      ]
    },
    {
      "cell_type": "code",
      "source": [
        "import json\n",
        "\n",
        "# Data to be written\n",
        "dictionary = {\n",
        "    \"X\": X,\n",
        "    \"Y\": Y.tolist(),\n",
        "}\n",
        "\n",
        "# Serializing json\n",
        "json_object = json.dumps(dictionary, indent=4)\n",
        "\n",
        "# Writing to sample.json\n",
        "with open(\"PixelData.json\", \"w\") as outfile:\n",
        "  outfile.write(json_object)"
      ],
      "metadata": {
        "id": "tfedWeeN9WKQ"
      },
      "execution_count": 8,
      "outputs": []
    },
    {
      "cell_type": "code",
      "source": [
        "import json\n",
        "\n",
        "with open('PixelData.json', 'r') as openfile:\n",
        "  json_object = json.load(openfile)"
      ],
      "metadata": {
        "id": "783oZ74F9YWS"
      },
      "execution_count": 1,
      "outputs": []
    },
    {
      "cell_type": "code",
      "source": [
        "X = json_object[\"X\"]\n",
        "Y = json_object[\"Y\"]"
      ],
      "metadata": {
        "id": "d5F8-eGf9abb"
      },
      "execution_count": 133,
      "outputs": []
    },
    {
      "cell_type": "code",
      "source": [
        "def NaivePredict(X, thresh1, thresh2):\n",
        "  return [0 if (x < thresh1) else 1 if (x < thresh2) else 2 for x in X]"
      ],
      "metadata": {
        "id": "1qo2HhmhPw3a"
      },
      "execution_count": 92,
      "outputs": []
    },
    {
      "cell_type": "code",
      "source": [
        "from sklearn.model_selection import train_test_split\n",
        "from sklearn.metrics import classification_report, confusion_matrix, accuracy_score\n",
        "X_train, X_test, y_train, y_test = train_test_split(X, Y,test_size=0.2, random_state = 1)\n",
        "accuracy = []\n",
        "thresholds = []\n",
        "for i in np.arange(0,100,0.1):\n",
        "  for j in np.arange(i,100,0.1):\n",
        "    y_pred = NaivePredict(X_train, i, j)\n",
        "    accuracy.append(accuracy_score(y_train,y_pred))\n",
        "    thresholds.append([i,j])"
      ],
      "metadata": {
        "id": "RkQZJocmP0mn"
      },
      "execution_count": 93,
      "outputs": []
    },
    {
      "cell_type": "code",
      "source": [
        "X_train, X_test, y_train, y_test = train_test_split(X, Y,test_size=0.2, random_state = 1)"
      ],
      "metadata": {
        "id": "lIbl_toTDx-o"
      },
      "execution_count": 134,
      "outputs": []
    },
    {
      "cell_type": "code",
      "source": [
        "len(X_train)"
      ],
      "metadata": {
        "colab": {
          "base_uri": "https://localhost:8080/"
        },
        "id": "mP058S_oDzPJ",
        "outputId": "8ae34271-855a-43a6-a506-ba2e543962ea"
      },
      "execution_count": 136,
      "outputs": [
        {
          "output_type": "execute_result",
          "data": {
            "text/plain": [
              "125"
            ]
          },
          "metadata": {},
          "execution_count": 136
        }
      ]
    },
    {
      "cell_type": "code",
      "source": [
        "optimal_thresh = thresholds[accuracy.index(max(accuracy))]"
      ],
      "metadata": {
        "id": "IyDk1dOnd9Ml"
      },
      "execution_count": 94,
      "outputs": []
    },
    {
      "cell_type": "code",
      "source": [
        "optimal_thresh"
      ],
      "metadata": {
        "colab": {
          "base_uri": "https://localhost:8080/"
        },
        "id": "Y6EMEBhZtI08",
        "outputId": "a8196163-a831-4b9a-d138-ae63b6e5a883"
      },
      "execution_count": 95,
      "outputs": [
        {
          "output_type": "execute_result",
          "data": {
            "text/plain": [
              "[0.1, 0.7000000000000001]"
            ]
          },
          "metadata": {},
          "execution_count": 95
        }
      ]
    },
    {
      "cell_type": "code",
      "source": [
        "accuracy_score(y_train,NaivePredict(X_train, optimal_thresh[0], optimal_thresh[1]))"
      ],
      "metadata": {
        "colab": {
          "base_uri": "https://localhost:8080/"
        },
        "id": "qI3ReXArghO9",
        "outputId": "535060e2-4181-4d14-af1a-9f455d2842eb"
      },
      "execution_count": 97,
      "outputs": [
        {
          "output_type": "execute_result",
          "data": {
            "text/plain": [
              "0.952"
            ]
          },
          "metadata": {},
          "execution_count": 97
        }
      ]
    },
    {
      "cell_type": "code",
      "source": [
        "X_train = np.array(X_train).reshape(-1, 1)\n",
        "X_test = np.array(X_test).reshape(-1, 1)"
      ],
      "metadata": {
        "id": "MFojmjo6vn-l"
      },
      "execution_count": 98,
      "outputs": []
    },
    {
      "cell_type": "code",
      "source": [
        "from sklearn import preprocessing\n",
        "from sklearn.model_selection import train_test_split\n",
        "from sklearn.neighbors import KNeighborsClassifier\n",
        "import matplotlib.pyplot as plt\n",
        "\n",
        "\n",
        "knn_clf=KNeighborsClassifier(n_neighbors=7)\n",
        "knn_clf.fit(X_train,y_train)\n",
        "ypred=knn_clf.predict(X_test) #These are the predicted output values\n",
        "\n",
        "from sklearn.metrics import classification_report, confusion_matrix, accuracy_score\n",
        "\n",
        "result = confusion_matrix(y_test, ypred)\n",
        "print(\"Confusion Matrix:\")\n",
        "print(result)\n",
        "result1 = classification_report(y_test, ypred)\n",
        "print(\"Classification Report:\",)\n",
        "print (result1)\n",
        "result2 = accuracy_score(y_test,ypred)\n",
        "print(\"Accuracy:\",result2)"
      ],
      "metadata": {
        "colab": {
          "base_uri": "https://localhost:8080/"
        },
        "id": "9lbpZnmrvM7L",
        "outputId": "2f9e8dc3-4503-4358-a102-94410890dc0c"
      },
      "execution_count": 20,
      "outputs": [
        {
          "output_type": "stream",
          "name": "stdout",
          "text": [
            "Confusion Matrix:\n",
            "[[24  0  0]\n",
            " [ 2  3  1]\n",
            " [ 0  1  1]]\n",
            "Classification Report:\n",
            "              precision    recall  f1-score   support\n",
            "\n",
            "           0       0.92      1.00      0.96        24\n",
            "           1       0.75      0.50      0.60         6\n",
            "           2       0.50      0.50      0.50         2\n",
            "\n",
            "    accuracy                           0.88        32\n",
            "   macro avg       0.72      0.67      0.69        32\n",
            "weighted avg       0.86      0.88      0.86        32\n",
            "\n",
            "Accuracy: 0.875\n"
          ]
        }
      ]
    },
    {
      "cell_type": "code",
      "source": [
        "from sklearn import preprocessing\n",
        "from sklearn.model_selection import train_test_split\n",
        "from sklearn.svm import SVC\n",
        "import matplotlib.pyplot as plt\n",
        "\n",
        "\n",
        "knn_clf=SVC()\n",
        "knn_clf.fit(X_train,y_train)\n",
        "ypred=knn_clf.predict(X_test) #These are the predicted output values\n",
        "\n",
        "from sklearn.metrics import classification_report, confusion_matrix, accuracy_score\n",
        "\n",
        "result = confusion_matrix(y_test, ypred)\n",
        "print(\"Confusion Matrix:\")\n",
        "print(result)\n",
        "result1 = classification_report(y_test, ypred)\n",
        "print(\"Classification Report:\",)\n",
        "print (result1)\n",
        "result2 = accuracy_score(y_test,ypred)\n",
        "print(\"Accuracy:\",result2)"
      ],
      "metadata": {
        "colab": {
          "base_uri": "https://localhost:8080/"
        },
        "id": "2fuvscH2vPZ-",
        "outputId": "aa7c4716-d9c2-4da3-cbde-858998383ef4"
      },
      "execution_count": 13,
      "outputs": [
        {
          "output_type": "stream",
          "name": "stdout",
          "text": [
            "Confusion Matrix:\n",
            "[[24  0  0]\n",
            " [ 3  2  1]\n",
            " [ 0  1  1]]\n",
            "Classification Report:\n",
            "              precision    recall  f1-score   support\n",
            "\n",
            "           0       0.89      1.00      0.94        24\n",
            "           1       0.67      0.33      0.44         6\n",
            "           2       0.50      0.50      0.50         2\n",
            "\n",
            "    accuracy                           0.84        32\n",
            "   macro avg       0.69      0.61      0.63        32\n",
            "weighted avg       0.82      0.84      0.82        32\n",
            "\n",
            "Accuracy: 0.84375\n"
          ]
        }
      ]
    },
    {
      "cell_type": "code",
      "source": [
        "from sklearn.tree import DecisionTreeClassifier\n",
        "from sklearn import preprocessing\n",
        "from sklearn.model_selection import train_test_split\n",
        "import matplotlib.pyplot as plt\n",
        "\n",
        "\n",
        "model = DecisionTreeClassifier(max_depth=3,random_state=0)\n",
        "model.fit(X_train,y_train)\n",
        "ypred=model.predict(X_train) #These are the predicted output values\n",
        "\n",
        "from sklearn.metrics import classification_report, confusion_matrix, accuracy_score\n",
        "\n",
        "#result = confusion_matrix(y_test, ypred)\n",
        "#print(\"Confusion Matrix:\")\n",
        "#print(result)\n",
        "#result1 = classification_report(y_test, ypred)\n",
        "#print(\"Classification Report:\",)\n",
        "#print (result1)\n",
        "result2 = accuracy_score(y_train,ypred)\n",
        "print(\"Accuracy:\",result2)"
      ],
      "metadata": {
        "colab": {
          "base_uri": "https://localhost:8080/"
        },
        "id": "KdVNThqavSTf",
        "outputId": "3f06a3a7-c58f-4cee-c7b2-8ec9da2b7f55"
      },
      "execution_count": 101,
      "outputs": [
        {
          "output_type": "stream",
          "name": "stdout",
          "text": [
            "Accuracy: 0.96\n"
          ]
        }
      ]
    },
    {
      "cell_type": "code",
      "source": [
        "from sklearn import preprocessing\n",
        "from sklearn.model_selection import train_test_split\n",
        "from sklearn.ensemble import RandomForestClassifier\n",
        "import matplotlib.pyplot as plt\n",
        "\n",
        "knn_clf=RandomForestClassifier(n_estimators=100, random_state=2)\n",
        "knn_clf.fit(X_train,y_train)\n",
        "ypred=knn_clf.predict(X_test) #These are the predicted output values\n",
        "\n",
        "from sklearn.metrics import classification_report, confusion_matrix, accuracy_score\n",
        "\n",
        "result = confusion_matrix(y_test, ypred)\n",
        "print(\"Confusion Matrix:\")\n",
        "print(result)\n",
        "result1 = classification_report(y_test, ypred)\n",
        "print(\"Classification Report:\",)\n",
        "print (result1)\n",
        "result2 = accuracy_score(y_test,ypred)\n",
        "print(\"Accuracy:\",result2)"
      ],
      "metadata": {
        "colab": {
          "base_uri": "https://localhost:8080/"
        },
        "id": "q0z3idwJvgh8",
        "outputId": "20dcb354-c712-4ccd-839b-50f1ece9091a"
      },
      "execution_count": 32,
      "outputs": [
        {
          "output_type": "stream",
          "name": "stdout",
          "text": [
            "Confusion Matrix:\n",
            "[[24  0  0]\n",
            " [ 1  4  1]\n",
            " [ 0  1  1]]\n",
            "Classification Report:\n",
            "              precision    recall  f1-score   support\n",
            "\n",
            "           0       0.96      1.00      0.98        24\n",
            "           1       0.80      0.67      0.73         6\n",
            "           2       0.50      0.50      0.50         2\n",
            "\n",
            "    accuracy                           0.91        32\n",
            "   macro avg       0.75      0.72      0.74        32\n",
            "weighted avg       0.90      0.91      0.90        32\n",
            "\n",
            "Accuracy: 0.90625\n"
          ]
        }
      ]
    },
    {
      "cell_type": "code",
      "source": [
        "import matplotlib.pyplot as plt\n",
        "import numpy as np\n",
        "\n",
        "# Plot\n",
        "fig, ax = plt.subplots(subplot_kw={\"projection\": \"3d\"})\n",
        "ax.scatter(0.5,0.5,0.8125, color='r',s=50)\n",
        "ax.scatter(np.transpose(np.array(thresholds))[0], np.transpose(np.array(thresholds))[1], np.array(accuracy),s=1)\n",
        "\n",
        "\n",
        "ax.set_xlabel('threshold 1')\n",
        "ax.set_ylabel('threshold 2')\n",
        "ax.set_zlabel('accuracy')\n",
        "plt.show()"
      ],
      "metadata": {
        "colab": {
          "base_uri": "https://localhost:8080/",
          "height": 248
        },
        "id": "RjszYX-smX1D",
        "outputId": "261e9aae-458b-49c7-8128-c24a6a6450e5"
      },
      "execution_count": 58,
      "outputs": [
        {
          "output_type": "display_data",
          "data": {
            "text/plain": [
              "<Figure size 432x288 with 1 Axes>"
            ],
            "image/png": "[encoded data removed]"
          },
          "metadata": {
            "needs_background": "light"
          }
        }
      ]
    },
    {
      "cell_type": "code",
      "source": [
        "import matplotlib.pyplot as plt\n",
        "fig = plt.figure(1, [8, 4])\n",
        "model_name = ['Thresholds', 'KNN', 'SVM', 'Decision Tree', 'Random Forest']\n",
        "acc = [0.875,0.875,0.84375,0.90625,0.90625]\n",
        "plt.bar(model_name,acc)\n",
        "plt.ylabel('Accuracy')\n",
        "plt.show()"
      ],
      "metadata": {
        "colab": {
          "base_uri": "https://localhost:8080/",
          "height": 265
        },
        "id": "cP2JKVUApHt_",
        "outputId": "d813f418-df75-43d8-a78b-9f94c6b1778e"
      },
      "execution_count": 37,
      "outputs": [
        {
          "output_type": "display_data",
          "data": {
            "text/plain": [
              "<Figure size 576x288 with 1 Axes>"
            ],
            "image/png": "[encoded data removed]"
          },
          "metadata": {
            "needs_background": "light"
          }
        }
      ]
    },
    {
      "cell_type": "code",
      "source": [
        "from google.colab import drive\n",
        "drive.mount('/content/drive')"
      ],
      "metadata": {
        "colab": {
          "base_uri": "https://localhost:8080/"
        },
        "id": "GPQhDyDPP2Hf",
        "outputId": "b203eae6-82a1-49ff-cf5a-ef18ad3aa2f1"
      },
      "execution_count": null,
      "outputs": [
        {
          "output_type": "stream",
          "name": "stdout",
          "text": [
            "Mounted at /content/drive\n"
          ]
        }
      ]
    },
    {
      "cell_type": "markdown",
      "source": [],
      "metadata": {
        "id": "kDPjbuixZyXO"
      }
    },
    {
      "cell_type": "code",
      "source": [
        "numColorPixels = [np.count_nonzero(cv2.cvtColor(x, cv2.COLOR_BGR2GRAY)) for x in ImageMatrix]\n",
        "X = [np.sum(x, axis=(0,1))[0] for x in ImageMatrix]\n",
        "X =  np.array(X) / np.array(numColorPixels)\n",
        "X = X.reshape(-1, 1)"
      ],
      "metadata": {
        "id": "Il0wqxG9Sg7V"
      },
      "execution_count": null,
      "outputs": []
    },
    {
      "cell_type": "markdown",
      "source": [
        "Calculate the thresholds"
      ],
      "metadata": {
        "id": "zpe66qnbaRpV"
      }
    },
    {
      "cell_type": "code",
      "source": [
        "X = np.array(X).reshape(-1, 1)"
      ],
      "metadata": {
        "id": "dryG7aWtem5T"
      },
      "execution_count": 27,
      "outputs": []
    },
    {
      "cell_type": "code",
      "source": [
        "from sklearn import preprocessing\n",
        "from sklearn.model_selection import train_test_split\n",
        "from sklearn.neighbors import KNeighborsClassifier\n",
        "import matplotlib.pyplot as plt\n",
        "\n",
        "X_train, X_test, y_train, y_test = train_test_split(X, Y,test_size=0.2, random_state = 1)\n",
        "\n",
        "knn_clf=KNeighborsClassifier(n_neighbors=7)\n",
        "knn_clf.fit(X_train,y_train)\n",
        "ypred=knn_clf.predict(X_test) #These are the predicted output values\n",
        "\n",
        "from sklearn.metrics import classification_report, confusion_matrix, accuracy_score\n",
        "\n",
        "result = confusion_matrix(y_test, ypred)\n",
        "print(\"Confusion Matrix:\")\n",
        "print(result)\n",
        "result1 = classification_report(y_test, ypred)\n",
        "print(\"Classification Report:\",)\n",
        "print (result1)\n",
        "result2 = accuracy_score(y_test,ypred)\n",
        "print(\"Accuracy:\",result2)"
      ],
      "metadata": {
        "colab": {
          "base_uri": "https://localhost:8080/"
        },
        "id": "cj1qYXVpZ2oz",
        "outputId": "80f8d015-5a47-4e75-863d-a921fec21fe7"
      },
      "execution_count": 31,
      "outputs": [
        {
          "output_type": "stream",
          "name": "stdout",
          "text": [
            "Confusion Matrix:\n",
            "[[24  0  0]\n",
            " [ 2  3  1]\n",
            " [ 0  1  1]]\n",
            "Classification Report:\n",
            "              precision    recall  f1-score   support\n",
            "\n",
            "           0       0.92      1.00      0.96        24\n",
            "           1       0.75      0.50      0.60         6\n",
            "           2       0.50      0.50      0.50         2\n",
            "\n",
            "    accuracy                           0.88        32\n",
            "   macro avg       0.72      0.67      0.69        32\n",
            "weighted avg       0.86      0.88      0.86        32\n",
            "\n",
            "Accuracy: 0.875\n"
          ]
        }
      ]
    },
    {
      "cell_type": "code",
      "source": [
        "from sklearn import preprocessing\n",
        "from sklearn.model_selection import train_test_split\n",
        "from sklearn.svm import SVC\n",
        "import matplotlib.pyplot as plt\n",
        "\n",
        "X_train, X_test, y_train, y_test = train_test_split(X, Y,test_size=0.2, random_state = 1)\n",
        "\n",
        "knn_clf=SVC()\n",
        "knn_clf.fit(X_train,y_train)\n",
        "ypred=knn_clf.predict(X_test) #These are the predicted output values\n",
        "\n",
        "from sklearn.metrics import classification_report, confusion_matrix, accuracy_score\n",
        "\n",
        "result = confusion_matrix(y_test, ypred)\n",
        "print(\"Confusion Matrix:\")\n",
        "print(result)\n",
        "result1 = classification_report(y_test, ypred)\n",
        "print(\"Classification Report:\",)\n",
        "print (result1)\n",
        "result2 = accuracy_score(y_test,ypred)\n",
        "print(\"Accuracy:\",result2)"
      ],
      "metadata": {
        "colab": {
          "base_uri": "https://localhost:8080/"
        },
        "id": "-TxJ8xZ0bi6I",
        "outputId": "02006e38-e4fd-41a1-ecf6-947385161825"
      },
      "execution_count": null,
      "outputs": [
        {
          "output_type": "stream",
          "name": "stdout",
          "text": [
            "Confusion Matrix:\n",
            "[[1 1 0]\n",
            " [0 1 0]\n",
            " [0 1 0]]\n",
            "Classification Report:\n",
            "              precision    recall  f1-score   support\n",
            "\n",
            "           0       1.00      0.50      0.67         2\n",
            "           1       0.33      1.00      0.50         1\n",
            "           2       0.00      0.00      0.00         1\n",
            "\n",
            "    accuracy                           0.50         4\n",
            "   macro avg       0.44      0.50      0.39         4\n",
            "weighted avg       0.58      0.50      0.46         4\n",
            "\n",
            "Accuracy: 0.5\n"
          ]
        },
        {
          "output_type": "stream",
          "name": "stderr",
          "text": [
            "/usr/local/lib/python3.8/dist-packages/sklearn/metrics/_classification.py:1318: UndefinedMetricWarning: Precision and F-score are ill-defined and being set to 0.0 in labels with no predicted samples. Use `zero_division` parameter to control this behavior.\n",
            "  _warn_prf(average, modifier, msg_start, len(result))\n",
            "/usr/local/lib/python3.8/dist-packages/sklearn/metrics/_classification.py:1318: UndefinedMetricWarning: Precision and F-score are ill-defined and being set to 0.0 in labels with no predicted samples. Use `zero_division` parameter to control this behavior.\n",
            "  _warn_prf(average, modifier, msg_start, len(result))\n",
            "/usr/local/lib/python3.8/dist-packages/sklearn/metrics/_classification.py:1318: UndefinedMetricWarning: Precision and F-score are ill-defined and being set to 0.0 in labels with no predicted samples. Use `zero_division` parameter to control this behavior.\n",
            "  _warn_prf(average, modifier, msg_start, len(result))\n"
          ]
        }
      ]
    },
    {
      "cell_type": "markdown",
      "source": [
        "RGB Feature extraction with KNN"
      ],
      "metadata": {
        "id": "L51aftKHdhZd"
      }
    },
    {
      "cell_type": "code",
      "source": [
        "import pandas as pd"
      ],
      "metadata": {
        "id": "CblRTJ-Ddgjy"
      },
      "execution_count": 59,
      "outputs": []
    },
    {
      "cell_type": "code",
      "source": [
        "data = pd.read_csv(r'/content/drive/MyDrive/CV/training.csv')\n",
        "data"
      ],
      "metadata": {
        "id": "AONbDOwWds-G",
        "colab": {
          "base_uri": "https://localhost:8080/",
          "height": 424
        },
        "outputId": "7c9f339d-09c1-4257-f576-226d8b2cca04"
      },
      "execution_count": 102,
      "outputs": [
        {
          "output_type": "execute_result",
          "data": {
            "text/plain": [
              "             id                            centroid  label\n",
              "0      1000_0_0  [0.28752327 0.62853798 0.68229548]      0\n",
              "1      1000_1_1  [0.2467438  0.46078222 0.87668347]      1\n",
              "2      1000_2_0  [0.27016352 0.66163218 0.63288337]      0\n",
              "3      1001_0_0  [0.32629577 0.6471068  0.68737473]      0\n",
              "4      1001_1_2  [0.24888546 0.34252655 0.87061166]      2\n",
              "...         ...                                 ...    ...\n",
              "17296    99_7_0  [0.09142759 0.51152609 0.51028377]      0\n",
              "17297     9_0_1  [0.27088548 0.55172172 0.80039168]      1\n",
              "17298     9_1_1  [0.30112394 0.55481501 0.82947997]      1\n",
              "17299     9_2_2  [0.26625816 0.37873962 0.84253678]      2\n",
              "17300     9_3_1  [0.20085898 0.47520182 0.70488396]      1\n",
              "\n",
              "[17301 rows x 3 columns]"
            ],
            "text/html": [
              "\n",
              "  <div id=\"df-c3baa683-23f4-4c4a-9484-3db6068dd638\">\n",
              "    <div class=\"colab-df-container\">\n",
              "      <div>\n",
              "<style scoped>\n",
              "    .dataframe tbody tr th:only-of-type {\n",
              "        vertical-align: middle;\n",
              "    }\n",
              "\n",
              "    .dataframe tbody tr th {\n",
              "        vertical-align: top;\n",
              "    }\n",
              "\n",
              "    .dataframe thead th {\n",
              "        text-align: right;\n",
              "    }\n",
              "</style>\n",
              "<table border=\"1\" class=\"dataframe\">\n",
              "  <thead>\n",
              "    <tr style=\"text-align: right;\">\n",
              "      <th></th>\n",
              "      <th>id</th>\n",
              "      <th>centroid</th>\n",
              "      <th>label</th>\n",
              "    </tr>\n",
              "  </thead>\n",
              "  <tbody>\n",
              "    <tr>\n",
              "      <th>0</th>\n",
              "      <td>1000_0_0</td>\n",
              "      <td>[0.28752327 0.62853798 0.68229548]</td>\n",
              "      <td>0</td>\n",
              "    </tr>\n",
              "    <tr>\n",
              "      <th>1</th>\n",
              "      <td>1000_1_1</td>\n",
              "      <td>[0.2467438  0.46078222 0.87668347]</td>\n",
              "      <td>1</td>\n",
              "    </tr>\n",
              "    <tr>\n",
              "      <th>2</th>\n",
              "      <td>1000_2_0</td>\n",
              "      <td>[0.27016352 0.66163218 0.63288337]</td>\n",
              "      <td>0</td>\n",
              "    </tr>\n",
              "    <tr>\n",
              "      <th>3</th>\n",
              "      <td>1001_0_0</td>\n",
              "      <td>[0.32629577 0.6471068  0.68737473]</td>\n",
              "      <td>0</td>\n",
              "    </tr>\n",
              "    <tr>\n",
              "      <th>4</th>\n",
              "      <td>1001_1_2</td>\n",
              "      <td>[0.24888546 0.34252655 0.87061166]</td>\n",
              "      <td>2</td>\n",
              "    </tr>\n",
              "    <tr>\n",
              "      <th>...</th>\n",
              "      <td>...</td>\n",
              "      <td>...</td>\n",
              "      <td>...</td>\n",
              "    </tr>\n",
              "    <tr>\n",
              "      <th>17296</th>\n",
              "      <td>99_7_0</td>\n",
              "      <td>[0.09142759 0.51152609 0.51028377]</td>\n",
              "      <td>0</td>\n",
              "    </tr>\n",
              "    <tr>\n",
              "      <th>17297</th>\n",
              "      <td>9_0_1</td>\n",
              "      <td>[0.27088548 0.55172172 0.80039168]</td>\n",
              "      <td>1</td>\n",
              "    </tr>\n",
              "    <tr>\n",
              "      <th>17298</th>\n",
              "      <td>9_1_1</td>\n",
              "      <td>[0.30112394 0.55481501 0.82947997]</td>\n",
              "      <td>1</td>\n",
              "    </tr>\n",
              "    <tr>\n",
              "      <th>17299</th>\n",
              "      <td>9_2_2</td>\n",
              "      <td>[0.26625816 0.37873962 0.84253678]</td>\n",
              "      <td>2</td>\n",
              "    </tr>\n",
              "    <tr>\n",
              "      <th>17300</th>\n",
              "      <td>9_3_1</td>\n",
              "      <td>[0.20085898 0.47520182 0.70488396]</td>\n",
              "      <td>1</td>\n",
              "    </tr>\n",
              "  </tbody>\n",
              "</table>\n",
              "<p>17301 rows × 3 columns</p>\n",
              "</div>\n",
              "      <button class=\"colab-df-convert\" onclick=\"convertToInteractive('df-c3baa683-23f4-4c4a-9484-3db6068dd638')\"\n",
              "              title=\"Convert this dataframe to an interactive table.\"\n",
              "              style=\"display:none;\">\n",
              "        \n",
              "  <svg xmlns=\"http://www.w3.org/2000/svg\" height=\"24px\"viewBox=\"0 0 24 24\"\n",
              "       width=\"24px\">\n",
              "    <path d=\"M0 0h24v24H0V0z\" fill=\"none\"/>\n",
              "    <path d=\"M18.56 5.44l.94 2.06.94-2.06 2.06-.94-2.06-.94-.94-2.06-.94 2.06-2.06.94zm-11 1L8.5 8.5l.94-2.06 2.06-.94-2.06-.94L8.5 2.5l-.94 2.06-2.06.94zm10 10l.94 2.06.94-2.06 2.06-.94-2.06-.94-.94-2.06-.94 2.06-2.06.94z\"/><path d=\"M17.41 7.96l-1.37-1.37c-.4-.4-.92-.59-1.43-.59-.52 0-1.04.2-1.43.59L10.3 9.45l-7.72 7.72c-.78.78-.78 2.05 0 2.83L4 21.41c.39.39.9.59 1.41.59.51 0 1.02-.2 1.41-.59l7.78-7.78 2.81-2.81c.8-.78.8-2.07 0-2.86zM5.41 20L4 18.59l7.72-7.72 1.47 1.35L5.41 20z\"/>\n",
              "  </svg>\n",
              "      </button>\n",
              "      \n",
              "  <style>\n",
              "    .colab-df-container {\n",
              "      display:flex;\n",
              "      flex-wrap:wrap;\n",
              "      gap: 12px;\n",
              "    }\n",
              "\n",
              "    .colab-df-convert {\n",
              "      background-color: #E8F0FE;\n",
              "      border: none;\n",
              "      border-radius: 50%;\n",
              "      cursor: pointer;\n",
              "      display: none;\n",
              "      fill: #1967D2;\n",
              "      height: 32px;\n",
              "      padding: 0 0 0 0;\n",
              "      width: 32px;\n",
              "    }\n",
              "\n",
              "    .colab-df-convert:hover {\n",
              "      background-color: #E2EBFA;\n",
              "      box-shadow: 0px 1px 2px rgba(60, 64, 67, 0.3), 0px 1px 3px 1px rgba(60, 64, 67, 0.15);\n",
              "      fill: #174EA6;\n",
              "    }\n",
              "\n",
              "    [theme=dark] .colab-df-convert {\n",
              "      background-color: #3B4455;\n",
              "      fill: #D2E3FC;\n",
              "    }\n",
              "\n",
              "    [theme=dark] .colab-df-convert:hover {\n",
              "      background-color: #434B5C;\n",
              "      box-shadow: 0px 1px 3px 1px rgba(0, 0, 0, 0.15);\n",
              "      filter: drop-shadow(0px 1px 2px rgba(0, 0, 0, 0.3));\n",
              "      fill: #FFFFFF;\n",
              "    }\n",
              "  </style>\n",
              "\n",
              "      <script>\n",
              "        const buttonEl =\n",
              "          document.querySelector('#df-c3baa683-23f4-4c4a-9484-3db6068dd638 button.colab-df-convert');\n",
              "        buttonEl.style.display =\n",
              "          google.colab.kernel.accessAllowed ? 'block' : 'none';\n",
              "\n",
              "        async function convertToInteractive(key) {\n",
              "          const element = document.querySelector('#df-c3baa683-23f4-4c4a-9484-3db6068dd638');\n",
              "          const dataTable =\n",
              "            await google.colab.kernel.invokeFunction('convertToInteractive',\n",
              "                                                     [key], {});\n",
              "          if (!dataTable) return;\n",
              "\n",
              "          const docLinkHtml = 'Like what you see? Visit the ' +\n",
              "            '<a target=\"_blank\" href=https://colab.research.google.com/notebooks/data_table.ipynb>data table notebook</a>'\n",
              "            + ' to learn more about interactive tables.';\n",
              "          element.innerHTML = '';\n",
              "          dataTable['output_type'] = 'display_data';\n",
              "          await google.colab.output.renderOutput(dataTable, element);\n",
              "          const docLink = document.createElement('div');\n",
              "          docLink.innerHTML = docLinkHtml;\n",
              "          element.appendChild(docLink);\n",
              "        }\n",
              "      </script>\n",
              "    </div>\n",
              "  </div>\n",
              "  "
            ]
          },
          "metadata": {},
          "execution_count": 102
        }
      ]
    },
    {
      "cell_type": "code",
      "source": [
        "X = [np.fromstring(x[1:-1], dtype=float, sep=' ') for x in data.centroid.tolist()]\n",
        "X"
      ],
      "metadata": {
        "id": "KMKe1xUjiCTy",
        "colab": {
          "base_uri": "https://localhost:8080/"
        },
        "outputId": "32fe54f5-c1bb-4ecd-c353-18696f78a0aa"
      },
      "execution_count": 103,
      "outputs": [
        {
          "output_type": "execute_result",
          "data": {
            "text/plain": [
              "[array([0.28752327, 0.62853798, 0.68229548]),\n",
              " array([0.2467438 , 0.46078222, 0.87668347]),\n",
              " array([0.27016352, 0.66163218, 0.63288337]),\n",
              " array([0.32629577, 0.6471068 , 0.68737473]),\n",
              " array([0.24888546, 0.34252655, 0.87061166]),\n",
              " array([0.01177749, 0.43905007, 0.42146864]),\n",
              " array([0.17557728, 0.53397377, 0.48177013]),\n",
              " array([0.06250533, 0.60744584, 0.54973331]),\n",
              " array([0.09955596, 0.12368462, 0.32488237]),\n",
              " array([0.09351614, 0.30313368, 0.26180488]),\n",
              " array([0.04546694, 0.09689156, 0.50907054]),\n",
              " array([0.16400577, 0.67131044, 0.65003052]),\n",
              " array([0.36096894, 0.64843505, 0.68419298]),\n",
              " array([0.21667723, 0.68649851, 0.66367843]),\n",
              " array([0.07854536, 0.54049341, 0.55561035]),\n",
              " array([0.11862163, 0.63690192, 0.63180125]),\n",
              " array([0.04590745, 0.38329451, 0.311328  ]),\n",
              " array([0.08025319, 0.35991662, 0.31760495]),\n",
              " array([0.27669071, 0.66939513, 0.64135353]),\n",
              " array([0.27950826, 0.29476104, 0.83357011]),\n",
              " array([0.20868708, 0.67144745, 0.64158491]),\n",
              " array([0.31814585, 0.67707356, 0.66979918]),\n",
              " array([0.27241359, 0.46634613, 0.88297683]),\n",
              " array([0.28892791, 0.66742912, 0.65089959]),\n",
              " array([0.21024957, 0.44127058, 0.38185885]),\n",
              " array([0.30969529, 0.55759677, 0.77390637]),\n",
              " array([0.36844599, 0.65546462, 0.6620443 ]),\n",
              " array([0.25992718, 0.49808416, 0.88460328]),\n",
              " array([0.29785457, 0.68422409, 0.66884304]),\n",
              " array([0.17462417, 0.49517315, 0.43452336]),\n",
              " array([0.26209249, 0.21854058, 0.82865643]),\n",
              " array([0.29513292, 0.26822318, 0.90080414]),\n",
              " array([0.06436404, 0.55165167, 0.50380527]),\n",
              " array([0.30225962, 0.29632233, 0.9155809 ]),\n",
              " array([0.21385065, 0.66274959, 0.61519654]),\n",
              " array([0.0993808 , 0.12098372, 0.58665707]),\n",
              " array([0.25170234, 0.61862136, 0.59041444]),\n",
              " array([0.32227584, 0.57735884, 0.58158531]),\n",
              " array([0.22783625, 0.4347777 , 0.62906067]),\n",
              " array([0.15440137, 0.59460878, 0.55986875]),\n",
              " array([0.21012374, 0.55569875, 0.5321048 ]),\n",
              " array([0.02848133, 0.52144487, 0.56761267]),\n",
              " array([0.25978354, 0.42705156, 0.83146925]),\n",
              " array([0.09686302, 0.56014608, 0.55152165]),\n",
              " array([0.20944236, 0.54249963, 0.54521052]),\n",
              " array([0.02553775, 0.41170594, 0.36291031]),\n",
              " array([0.10491676, 0.57268991, 0.5714463 ]),\n",
              " array([0.31005074, 0.66205026, 0.66256862]),\n",
              " array([0.21405902, 0.55401569, 0.55042292]),\n",
              " array([0.17837114, 0.53911307, 0.52647255]),\n",
              " array([0.24845061, 0.47559925, 0.88629346]),\n",
              " array([0.25930164, 0.68140729, 0.67180794]),\n",
              " array([0.38530035, 0.66422241, 0.68285824]),\n",
              " array([0.045009  , 0.16680044, 0.11304794]),\n",
              " array([0.11937018, 0.18595587, 0.403075  ]),\n",
              " array([0.27282588, 0.40235364, 0.90277428]),\n",
              " array([0.07095281, 0.64997742, 0.58484712]),\n",
              " array([0.2669553 , 0.409089  , 0.85538618]),\n",
              " array([0.05185852, 0.4779239 , 0.49018154]),\n",
              " array([0.220564  , 0.70660145, 0.66690375]),\n",
              " array([0.21121508, 0.63297277, 0.61843747]),\n",
              " array([0.10110659, 0.37798805, 0.38044576]),\n",
              " array([0.2507126 , 0.57079698, 0.82487507]),\n",
              " array([0.2573599 , 0.63751433, 0.62181989]),\n",
              " array([0.34308808, 0.41354265, 0.8652534 ]),\n",
              " array([0.36278112, 0.66330418, 0.66722239]),\n",
              " array([0.21419665, 0.31319108, 0.83584256]),\n",
              " array([0.27199008, 0.4612899 , 0.81252859]),\n",
              " array([0.22574185, 0.5097104 , 0.59228322]),\n",
              " array([0.35387461, 0.56671876, 0.82450283]),\n",
              " array([0.00803821, 0.52917678, 0.55699766]),\n",
              " array([0.25542562, 0.37879311, 0.85692847]),\n",
              " array([0.27959452, 0.59159636, 0.66914136]),\n",
              " array([0.28523363, 0.49880362, 0.84263114]),\n",
              " array([0.08668128, 0.55440346, 0.47587199]),\n",
              " array([0.11850883, 0.58121702, 0.51339939]),\n",
              " array([0.13348904, 0.49832028, 0.47666   ]),\n",
              " array([0.25687154, 0.60946309, 0.60122615]),\n",
              " array([0.13587613, 0.44988441, 0.84365254]),\n",
              " array([0.12203307, 0.65071999, 0.62423926]),\n",
              " array([0.23125828, 0.70628915, 0.6985574 ]),\n",
              " array([0.08497446, 0.42071611, 0.37691132]),\n",
              " array([0.04941042, 0.45832344, 0.4352682 ]),\n",
              " array([0.34884522, 0.57605184, 0.66420494]),\n",
              " array([0.27706063, 0.68833131, 0.66501112]),\n",
              " array([0.33610176, 0.38613222, 0.89934868]),\n",
              " array([0.31022522, 0.54894923, 0.79743125]),\n",
              " array([0.29414288, 0.61786081, 0.60156603]),\n",
              " array([0.24132921, 0.26556171, 0.83302408]),\n",
              " array([0.21365842, 0.62826361, 0.55249481]),\n",
              " array([0.28851032, 0.55772146, 0.77046005]),\n",
              " array([0.21828702, 0.6429992 , 0.57206178]),\n",
              " array([0.27333397, 0.6777628 , 0.63053495]),\n",
              " array([0.267112  , 0.64723691, 0.60197143]),\n",
              " array([0.30487713, 0.64307889, 0.62529123]),\n",
              " array([0.0706432 , 0.59759155, 0.56431432]),\n",
              " array([0.35860656, 0.37003232, 0.92840365]),\n",
              " array([0.12298746, 0.5701146 , 0.54110427]),\n",
              " array([0.05389601, 0.40413138, 0.34962743]),\n",
              " array([0.16758007, 0.45620326, 0.40427   ]),\n",
              " array([0.18107176, 0.44496642, 0.41326764]),\n",
              " array([0.30915291, 0.65110423, 0.68629883]),\n",
              " array([0.28500148, 0.39643911, 0.85335833]),\n",
              " array([0.33536297, 0.43781749, 0.80305286]),\n",
              " array([0.03918  , 0.5206998, 0.5635279]),\n",
              " array([0.37884796, 0.59970386, 0.5807407 ]),\n",
              " array([0.20894053, 0.57221566, 0.55646546]),\n",
              " array([0.10497011, 0.41318624, 0.39151267]),\n",
              " array([0.07165936, 0.56983632, 0.56125677]),\n",
              " array([0.22443468, 0.41032375, 0.88310869]),\n",
              " array([0.31114094, 0.62687676, 0.68544388]),\n",
              " array([0.27646638, 0.66330938, 0.63780069]),\n",
              " array([0.26439302, 0.49034904, 0.86001942]),\n",
              " array([0.15396573, 0.61540845, 0.58037703]),\n",
              " array([0.07381473, 0.45797511, 0.46154039]),\n",
              " array([0.07418776, 0.49027053, 0.46566279]),\n",
              " array([0.30483677, 0.66192078, 0.63530595]),\n",
              " array([0.18713614, 0.52928392, 0.63340047]),\n",
              " array([0.28418099, 0.38714348, 0.80988215]),\n",
              " array([0.05403858, 0.51666959, 0.46650506]),\n",
              " array([0.33370106, 0.56808684, 0.53005186]),\n",
              " array([0.31322544, 0.47664525, 0.45442452]),\n",
              " array([0.10288326, 0.13559483, 0.33342465]),\n",
              " array([0.21753298, 0.59991773, 0.56543601]),\n",
              " array([0.28017321, 0.50903175, 0.84025198]),\n",
              " array([0.22643235, 0.61334989, 0.59189943]),\n",
              " array([0.12077266, 0.52725306, 0.46521979]),\n",
              " array([0.0578579 , 0.50749256, 0.43480941]),\n",
              " array([0.04379141, 0.30662108, 0.30438475]),\n",
              " array([0.0222616 , 0.27701225, 0.22583437]),\n",
              " array([0.07796372, 0.30220151, 0.22786818]),\n",
              " array([0.22268916, 0.4868124 , 0.48851357]),\n",
              " array([0.28201057, 0.32447917, 0.85297304]),\n",
              " array([0.09565742, 0.52801251, 0.58429673]),\n",
              " array([0.0253334 , 0.45245249, 0.45153803]),\n",
              " array([0.13653225, 0.46305945, 0.40964163]),\n",
              " array([0.08455394, 0.30216918, 0.22349476]),\n",
              " array([0.1753077 , 0.4524689 , 0.76726916]),\n",
              " array([0.09649324, 0.45684686, 0.49931549]),\n",
              " array([0.02912732, 0.25872479, 0.28937507]),\n",
              " array([0.20949397, 0.68032755, 0.63404121]),\n",
              " array([0.38622535, 0.50192438, 0.89425768]),\n",
              " array([0.2276537 , 0.70076702, 0.65962051]),\n",
              " array([0.11693204, 0.18751482, 0.40208589]),\n",
              " array([0.23561835, 0.36600272, 0.85350278]),\n",
              " array([0.20869371, 0.62184018, 0.60586263]),\n",
              " array([0.31842987, 0.4668423 , 0.88041815]),\n",
              " array([0.20080833, 0.58070943, 0.53388552]),\n",
              " array([0.24618713, 0.63100946, 0.59676338]),\n",
              " array([0.06267777, 0.50516397, 0.45238667]),\n",
              " array([0.167701  , 0.50784723, 0.5115516 ]),\n",
              " array([0.20925277, 0.6045326 , 0.60398005]),\n",
              " array([0.31483645, 0.62773304, 0.62192659]),\n",
              " array([0.1382052 , 0.62831079, 0.5952153 ]),\n",
              " array([0.21769757, 0.61354491, 0.60160544]),\n",
              " array([0.14722091, 0.59537219, 0.55896767]),\n",
              " array([0.17855167, 0.43847548, 0.38160478]),\n",
              " array([0.13324296, 0.51345229, 0.45951911]),\n",
              " array([0.16947141, 0.51639607, 0.4752554 ]),\n",
              " array([0.1476993 , 0.6292772 , 0.58679385]),\n",
              " array([0.23042608, 0.66096161, 0.62886048]),\n",
              " array([0.23480046, 0.64180708, 0.64063968]),\n",
              " array([0.25619773, 0.54291942, 0.84748094]),\n",
              " array([0.12213594, 0.56462336, 0.52824912]),\n",
              " array([0.20786481, 0.59135302, 0.55378985]),\n",
              " array([0.21718776, 0.67210117, 0.62525317]),\n",
              " array([0.27352156, 0.49268108, 0.84589216]),\n",
              " array([0.0697851 , 0.51462714, 0.53847788]),\n",
              " array([0.13472286, 0.64481183, 0.63979198]),\n",
              " array([0.28262771, 0.67385938, 0.67070459]),\n",
              " array([0.33025442, 0.65025385, 0.69734235]),\n",
              " array([0.20470423, 0.65212877, 0.6184525 ]),\n",
              " array([0.30980771, 0.68557449, 0.68772603]),\n",
              " array([0.22187565, 0.57332579, 0.54663067]),\n",
              " array([0.39152326, 0.61114531, 0.60884097]),\n",
              " array([0.23494165, 0.59164509, 0.57684277]),\n",
              " array([0.18157441, 0.64125994, 0.58048056]),\n",
              " array([0.03886701, 0.56377778, 0.58827262]),\n",
              " array([0.26934825, 0.3265099 , 0.89777354]),\n",
              " array([0.14305061, 0.39534559, 0.33092782]),\n",
              " array([0.22089568, 0.4182286 , 0.88824588]),\n",
              " array([0.24890883, 0.4995378 , 0.88896427]),\n",
              " array([0.36152803, 0.61446927, 0.64475963]),\n",
              " array([0.0332046 , 0.47792645, 0.46305574]),\n",
              " array([0.11304472, 0.6248412 , 0.59298836]),\n",
              " array([0.2904245 , 0.56711069, 0.55724121]),\n",
              " array([0.34014367, 0.63054214, 0.65848751]),\n",
              " array([0.26065024, 0.34355827, 0.82191532]),\n",
              " array([0.2328274 , 0.6350666 , 0.61373448]),\n",
              " array([0.30175096, 0.66846668, 0.68059916]),\n",
              " array([0.22340548, 0.62673908, 0.59186063]),\n",
              " array([0.06560294, 0.46706226, 0.5169305 ]),\n",
              " array([0.07047333, 0.59037858, 0.54601047]),\n",
              " array([0.17871102, 0.4299718 , 0.46657467]),\n",
              " array([0.30432776, 0.52192051, 0.86917527]),\n",
              " array([0.30985422, 0.42963558, 0.87850684]),\n",
              " array([0.23555375, 0.36985939, 0.80285431]),\n",
              " array([0.0537225 , 0.4558401 , 0.41440761]),\n",
              " array([0.23136229, 0.50127589, 0.47485762]),\n",
              " array([0.1915295 , 0.44430581, 0.42948907]),\n",
              " array([0.08123001, 0.17735692, 0.55120917]),\n",
              " array([0.06529861, 0.51379157, 0.48103   ]),\n",
              " array([0.32861444, 0.32235086, 0.88393146]),\n",
              " array([0.29130596, 0.3194088 , 0.8510604 ]),\n",
              " array([0.06913203, 0.51980374, 0.48092871]),\n",
              " array([0.32275237, 0.60624754, 0.59592093]),\n",
              " array([0.07212824, 0.56725982, 0.50117987]),\n",
              " array([0.25209974, 0.34630895, 0.86046064]),\n",
              " array([0.14042663, 0.34818914, 0.26821804]),\n",
              " array([0.2610253 , 0.67686722, 0.66981773]),\n",
              " array([0.3781495 , 0.66610368, 0.66841378]),\n",
              " array([0.18730677, 0.65195983, 0.62546651]),\n",
              " array([0.13316035, 0.58682305, 0.57513129]),\n",
              " array([0.29010978, 0.49519332, 0.83642848]),\n",
              " array([0.07504569, 0.30083956, 0.22660954]),\n",
              " array([0.27769208, 0.56938611, 0.54032942]),\n",
              " array([0.15269255, 0.64388075, 0.61345071]),\n",
              " array([0.12973506, 0.66661227, 0.63071559]),\n",
              " array([0.30457912, 0.48753154, 0.85046599]),\n",
              " array([0.33481374, 0.65984255, 0.62032498]),\n",
              " array([0.30187717, 0.69540048, 0.69611656]),\n",
              " array([0.25993847, 0.48138899, 0.87274821]),\n",
              " array([0.37464152, 0.65890455, 0.64604444]),\n",
              " array([0.18743965, 0.24970284, 0.75117161]),\n",
              " array([0.26599085, 0.2611232 , 0.79914616]),\n",
              " array([0.32800744, 0.37277915, 0.8815604 ]),\n",
              " array([0.28703419, 0.65920698, 0.61047181]),\n",
              " array([0.09211404, 0.57336259, 0.49650408]),\n",
              " array([0.18957657, 0.62505905, 0.56631405]),\n",
              " array([0.31106919, 0.72159976, 0.6920815 ]),\n",
              " array([0.20692834, 0.63474729, 0.56705371]),\n",
              " array([0.32799979, 0.5840271 , 0.64699465]),\n",
              " array([0.28575334, 0.43316917, 0.84645979]),\n",
              " array([0.27461045, 0.66050401, 0.6632765 ]),\n",
              " array([0.21558542, 0.63492524, 0.64458624]),\n",
              " array([0.21210464, 0.61886325, 0.61029638]),\n",
              " array([0.26322021, 0.45859876, 0.76078993]),\n",
              " array([0.18301089, 0.45572678, 0.87278676]),\n",
              " array([0.21068752, 0.44908835, 0.86436558]),\n",
              " array([0.23259534, 0.64402027, 0.6595755 ]),\n",
              " array([0.25042054, 0.67535782, 0.67906419]),\n",
              " array([0.0447628 , 0.43652711, 0.38259709]),\n",
              " array([0.16562656, 0.59770445, 0.57345451]),\n",
              " array([0.20020958, 0.59207195, 0.55797852]),\n",
              " array([0.28250928, 0.69562298, 0.65375056]),\n",
              " array([0.07362581, 0.62890554, 0.61207722]),\n",
              " array([0.32278449, 0.36628348, 0.83007193]),\n",
              " array([0.08116333, 0.55169652, 0.57788816]),\n",
              " array([0.05698832, 0.54833937, 0.56550785]),\n",
              " array([0.04726592, 0.47797609, 0.38340015]),\n",
              " array([0.0877513, 0.3615634, 0.3385056]),\n",
              " array([0.23877228, 0.45671444, 0.49887541]),\n",
              " array([0.16876935, 0.54955809, 0.5034844 ]),\n",
              " array([0.11730282, 0.52476404, 0.50017203]),\n",
              " array([0.04590102, 0.43739453, 0.48579508]),\n",
              " array([0.25623161, 0.41177197, 0.88647985]),\n",
              " array([0.13450384, 0.46982808, 0.38828573]),\n",
              " array([0.32654793, 0.53493644, 0.59777746]),\n",
              " array([0.31618566, 0.65050074, 0.61547123]),\n",
              " array([0.09631806, 0.42565086, 0.34337635]),\n",
              " array([0.39212504, 0.60756559, 0.6488626 ]),\n",
              " array([0.09514974, 0.31808867, 0.29813719]),\n",
              " array([0.31516828, 0.34660675, 0.8329733 ]),\n",
              " array([0.0629743 , 0.42088735, 0.47869925]),\n",
              " array([0.39118884, 0.64431382, 0.67575128]),\n",
              " array([0.29794324, 0.61456495, 0.60865545]),\n",
              " array([0.03487881, 0.38919386, 0.33982109]),\n",
              " array([0.24486235, 0.61706777, 0.58955968]),\n",
              " array([0.20835248, 0.62662417, 0.57835615]),\n",
              " array([0.13300196, 0.52733626, 0.45207723]),\n",
              " array([0.05536039, 0.51393876, 0.42404722]),\n",
              " array([0.2580701 , 0.64075832, 0.61060967]),\n",
              " array([0.1996415 , 0.61836139, 0.57726962]),\n",
              " array([0.21202521, 0.58908094, 0.56181235]),\n",
              " array([0.28405764, 0.59515448, 0.63312198]),\n",
              " array([0.07804768, 0.37897788, 0.28425975]),\n",
              " array([0.29425278, 0.67580561, 0.66915402]),\n",
              " array([0.2870196 , 0.68042758, 0.67474422]),\n",
              " array([0.15576832, 0.49726931, 0.39803201]),\n",
              " array([0.04072699, 0.44173259, 0.4170827 ]),\n",
              " array([0.14615966, 0.51480149, 0.48907886]),\n",
              " array([0.06838862, 0.46804741, 0.45583155]),\n",
              " array([0.26824007, 0.40363037, 0.85866116]),\n",
              " array([0.1810803 , 0.29482817, 0.58072129]),\n",
              " array([0.21931347, 0.63888402, 0.59056154]),\n",
              " array([0.12329215, 0.46436141, 0.40816459]),\n",
              " array([0.08650652, 0.53199406, 0.54169743]),\n",
              " array([0.07044869, 0.55030801, 0.48330472]),\n",
              " array([0.36772318, 0.58723282, 0.7570656 ]),\n",
              " array([0.28745671, 0.56194902, 0.51291165]),\n",
              " array([0.28248648, 0.50490475, 0.83546812]),\n",
              " array([0.35530435, 0.66519539, 0.6637527 ]),\n",
              " array([0.21015745, 0.43604278, 0.7312771 ]),\n",
              " array([0.26190768, 0.65658448, 0.64203458]),\n",
              " array([0.12821217, 0.47887793, 0.44591083]),\n",
              " array([0.0264695 , 0.50060508, 0.54271807]),\n",
              " array([0.06184616, 0.5592475 , 0.50886591]),\n",
              " array([0.14333716, 0.56813943, 0.54757572]),\n",
              " array([0.04942528, 0.43875805, 0.47349993]),\n",
              " array([0.03040728, 0.50078535, 0.54070327]),\n",
              " array([0.24861613, 0.57342682, 0.56663743]),\n",
              " array([0.04563649, 0.45954437, 0.45830431]),\n",
              " array([0.3075468 , 0.39360432, 0.87574863]),\n",
              " array([0.23526863, 0.22693219, 0.79831505]),\n",
              " array([0.34768885, 0.60382456, 0.61486168]),\n",
              " array([0.14078069, 0.26829006, 0.58610667]),\n",
              " array([0.26163809, 0.57041983, 0.55435608]),\n",
              " array([0.42938356, 0.6122906 , 0.65677426]),\n",
              " array([0.29645851, 0.23674036, 0.87496328]),\n",
              " array([0.22378072, 0.28086071, 0.86048598]),\n",
              " array([0.24338542, 0.43575996, 0.39435677]),\n",
              " array([0.22825081, 0.37999305, 0.72441022]),\n",
              " array([0.28068579, 0.59197789, 0.6678938 ]),\n",
              " array([0.17865804, 0.48159988, 0.45610977]),\n",
              " array([0.03514729, 0.52490329, 0.55507632]),\n",
              " array([0.07299196, 0.53429978, 0.61164483]),\n",
              " array([0.02999279, 0.53770457, 0.57673633]),\n",
              " array([0.18785974, 0.53140156, 0.48175314]),\n",
              " array([0.04158576, 0.48495145, 0.51519949]),\n",
              " array([0.11409707, 0.32681475, 0.6825671 ]),\n",
              " array([0.06096311, 0.4831534 , 0.44385302]),\n",
              " array([0.07541318, 0.54025767, 0.54360573]),\n",
              " array([0.28044607, 0.678782  , 0.68582266]),\n",
              " array([0.17589082, 0.39960647, 0.81206213]),\n",
              " array([0.21673877, 0.62945289, 0.61021986]),\n",
              " array([0.25490888, 0.54159466, 0.76718574]),\n",
              " array([0.2500164 , 0.64927171, 0.64851194]),\n",
              " array([0.30106622, 0.60071017, 0.71323231]),\n",
              " array([0.14415968, 0.42053809, 0.39231965]),\n",
              " array([0.18174999, 0.43294274, 0.48814386]),\n",
              " array([0.2705306 , 0.62094145, 0.60029252]),\n",
              " array([0.2130791 , 0.54930616, 0.55979884]),\n",
              " array([0.04216806, 0.50190747, 0.52565805]),\n",
              " array([0.02975608, 0.48132654, 0.54276811]),\n",
              " array([0.15930287, 0.60234376, 0.6022263 ]),\n",
              " array([0.07973391, 0.4160113 , 0.34708789]),\n",
              " array([0.09773276, 0.65875965, 0.65207632]),\n",
              " array([0.28365059, 0.36159593, 0.91577316]),\n",
              " array([0.31679151, 0.27312615, 0.92297527]),\n",
              " array([0.09944052, 0.55196701, 0.49783774]),\n",
              " array([0.09282789, 0.33487004, 0.8265242 ]),\n",
              " array([0.0468941 , 0.63432157, 0.5844338 ]),\n",
              " array([0.31901519, 0.67373568, 0.66094061]),\n",
              " array([0.19222666, 0.67085169, 0.63771886]),\n",
              " array([0.20449503, 0.42672732, 0.8862929 ]),\n",
              " array([0.28996365, 0.68579365, 0.71636648]),\n",
              " array([0.04750828, 0.53970446, 0.52800099]),\n",
              " array([0.31481687, 0.69539577, 0.69064307]),\n",
              " array([0.28748584, 0.67693631, 0.67478936]),\n",
              " array([0.2132383 , 0.63973186, 0.59893123]),\n",
              " array([0.2884279 , 0.33690843, 0.85582615]),\n",
              " array([0.07758214, 0.3718441 , 0.33743843]),\n",
              " array([0.28867614, 0.3744405 , 0.87926772]),\n",
              " array([0.26704323, 0.64321748, 0.64286046]),\n",
              " array([0.27552521, 0.56801313, 0.70061257]),\n",
              " array([0.2773958, 0.577201 , 0.5580368]),\n",
              " array([0.20022813, 0.61224083, 0.58559289]),\n",
              " array([0.12294324, 0.46713802, 0.36477183]),\n",
              " array([0.29266715, 0.6718364 , 0.64265202]),\n",
              " array([0.32925564, 0.69332284, 0.66801535]),\n",
              " array([0.04567031, 0.52813556, 0.55436757]),\n",
              " array([0.0676141 , 0.54712103, 0.54402324]),\n",
              " array([0.2064127, 0.6129046, 0.5665786]),\n",
              " array([0.29834867, 0.52565712, 0.81636308]),\n",
              " array([0.20592167, 0.65187606, 0.64603749]),\n",
              " array([0.19693227, 0.65983554, 0.6275643 ]),\n",
              " array([0.30307817, 0.45705248, 0.84511371]),\n",
              " array([0.20457645, 0.64331295, 0.63196745]),\n",
              " array([0.26429958, 0.64390163, 0.64245339]),\n",
              " array([0.23502377, 0.53164821, 0.51874214]),\n",
              " array([0.33160122, 0.39518051, 0.87254122]),\n",
              " array([0.35047335, 0.43426968, 0.90530283]),\n",
              " array([0.29676094, 0.51336231, 0.43699393]),\n",
              " array([0.24181772, 0.55151922, 0.60704928]),\n",
              " array([0.22658288, 0.5942424 , 0.56758737]),\n",
              " array([0.11022436, 0.64385429, 0.60613756]),\n",
              " array([0.07709443, 0.53018779, 0.51982255]),\n",
              " array([0.06505517, 0.41211253, 0.45260421]),\n",
              " array([0.34403697, 0.61259507, 0.66508021]),\n",
              " array([0.29249632, 0.53000084, 0.86505571]),\n",
              " array([0.20936239, 0.59600821, 0.60340744]),\n",
              " array([0.26666844, 0.66154208, 0.67333288]),\n",
              " array([0.2478799 , 0.42852979, 0.86852459]),\n",
              " array([0.32445547, 0.69079338, 0.68103997]),\n",
              " array([0.18190185, 0.37368246, 0.88925434]),\n",
              " array([0.20254901, 0.3961192 , 0.87809954]),\n",
              " array([0.13168169, 0.47601036, 0.40513602]),\n",
              " array([0.11305845, 0.51936487, 0.48864538]),\n",
              " array([0.28348495, 0.62800287, 0.61564664]),\n",
              " array([0.37080833, 0.41135529, 0.92640964]),\n",
              " array([0.21344292, 0.2553669 , 0.57378388]),\n",
              " array([0.30371314, 0.61506841, 0.61265675]),\n",
              " array([0.32312795, 0.53748528, 0.53982467]),\n",
              " array([0.25880766, 0.49010082, 0.49318187]),\n",
              " array([0.20473851, 0.4483683 , 0.44042321]),\n",
              " array([0.06480781, 0.53152313, 0.55915244]),\n",
              " array([0.13971266, 0.45863025, 0.45734406]),\n",
              " array([0.22615316, 0.53900435, 0.48334097]),\n",
              " array([0.24031038, 0.62983927, 0.5683082 ]),\n",
              " array([0.36373446, 0.63107992, 0.62559466]),\n",
              " array([0.0370718, 0.2919799, 0.2599904]),\n",
              " array([0.25120771, 0.3728278 , 0.90845715]),\n",
              " array([0.246125  , 0.4125861 , 0.90954305]),\n",
              " array([0.12513471, 0.33211468, 0.49630406]),\n",
              " array([0.07719083, 0.21960701, 0.48846028]),\n",
              " array([0.26645528, 0.55332858, 0.77908724]),\n",
              " array([0.33280963, 0.50366531, 0.84626128]),\n",
              " array([0.26858554, 0.64602293, 0.57109217]),\n",
              " array([0.09549841, 0.47116076, 0.50115464]),\n",
              " array([0.30481064, 0.3620387 , 0.86281886]),\n",
              " array([0.27889127, 0.32418167, 0.90201677]),\n",
              " array([0.11344569, 0.33219965, 0.37957461]),\n",
              " array([0.22306086, 0.26760873, 0.80775889]),\n",
              " array([0.2019059 , 0.62820115, 0.57818542]),\n",
              " array([0.34989929, 0.66593309, 0.66408836]),\n",
              " array([0.21899302, 0.49119162, 0.43846599]),\n",
              " array([0.08922712, 0.51386696, 0.52055204]),\n",
              " array([0.24947756, 0.4067458 , 0.89193333]),\n",
              " array([0.29894385, 0.399784  , 0.91513337]),\n",
              " array([0.08615562, 0.53339379, 0.55886367]),\n",
              " array([0.11814488, 0.5462147 , 0.54867566]),\n",
              " array([0.25422045, 0.54088731, 0.5682194 ]),\n",
              " array([0.0274822 , 0.59515557, 0.59875178]),\n",
              " array([0.10110121, 0.62886335, 0.58929065]),\n",
              " array([0.15742713, 0.65355851, 0.62134468]),\n",
              " array([0.25720198, 0.67996001, 0.65842611]),\n",
              " array([0.18041936, 0.45429381, 0.51121098]),\n",
              " array([0.17786521, 0.63924085, 0.61598048]),\n",
              " array([0.15465839, 0.56627644, 0.52744177]),\n",
              " array([0.34227635, 0.65933862, 0.69409788]),\n",
              " array([0.24930866, 0.43793169, 0.87245056]),\n",
              " array([0.0601199 , 0.51022651, 0.47087456]),\n",
              " array([0.28404769, 0.60055661, 0.68550843]),\n",
              " array([0.20488733, 0.61198716, 0.59867665]),\n",
              " array([0.04309526, 0.58555007, 0.6024337 ]),\n",
              " array([0.35354991, 0.48588363, 0.86840754]),\n",
              " array([0.35039871, 0.37449858, 0.88265718]),\n",
              " array([0.29317918, 0.67684213, 0.66212084]),\n",
              " array([0.06894148, 0.48986299, 0.3849335 ]),\n",
              " array([0.19479725, 0.53711083, 0.45198757]),\n",
              " array([0.04575484, 0.45432357, 0.468761  ]),\n",
              " array([0.12192634, 0.55543851, 0.49110564]),\n",
              " array([0.19537453, 0.60927611, 0.59098048]),\n",
              " array([0.32950598, 0.67693484, 0.70005891]),\n",
              " array([0.18440557, 0.37893543, 0.8616765 ]),\n",
              " array([0.14247354, 0.57710841, 0.50641297]),\n",
              " array([0.25621331, 0.62946659, 0.5739802 ]),\n",
              " array([0.17094321, 0.6223847 , 0.56405251]),\n",
              " array([0.34126969, 0.69117104, 0.65319132]),\n",
              " array([0.27804751, 0.6057324 , 0.57514105]),\n",
              " array([0.30794945, 0.28229913, 0.82802718]),\n",
              " array([0.34355201, 0.3367469 , 0.84296907]),\n",
              " array([0.39980712, 0.62491234, 0.72422317]),\n",
              " array([0.31424587, 0.42695291, 0.86820617]),\n",
              " array([0.07611001, 0.47182361, 0.39616099]),\n",
              " array([0.03011944, 0.4994216 , 0.45479118]),\n",
              " array([0.28734969, 0.49264736, 0.87009726]),\n",
              " array([0.11845613, 0.66307616, 0.61679516]),\n",
              " array([0.22640591, 0.67504141, 0.68251557]),\n",
              " array([0.07124952, 0.62130228, 0.61837344]),\n",
              " array([0.08844452, 0.13737189, 0.50339061]),\n",
              " array([0.06076254, 0.52163859, 0.48432047]),\n",
              " array([0.16184871, 0.50658131, 0.47612339]),\n",
              " array([0.26956978, 0.56433856, 0.76497929]),\n",
              " array([0.29207705, 0.3105952 , 0.84081889]),\n",
              " array([0.25142296, 0.62829608, 0.63097152]),\n",
              " array([0.15335106, 0.6103639 , 0.56298712]),\n",
              " array([0.25429754, 0.61630453, 0.60037228]),\n",
              " array([0.23124802, 0.25110651, 0.70493847]),\n",
              " array([0.30203504, 0.60571328, 0.58316791]),\n",
              " array([0.31079163, 0.50096649, 0.84093348]),\n",
              " array([0.02783091, 0.22823899, 0.19519937]),\n",
              " array([0.07945974, 0.56747503, 0.49181708]),\n",
              " array([0.32473346, 0.35144034, 0.89237788]),\n",
              " array([0.17643147, 0.57635386, 0.53079724]),\n",
              " array([0.29914177, 0.70021793, 0.67059743]),\n",
              " array([0.29798976, 0.46555523, 0.76038106]),\n",
              " array([0.19525663, 0.63887668, 0.58170588]),\n",
              " array([0.24286947, 0.57021278, 0.57070132]),\n",
              " array([0.2544799 , 0.59695537, 0.59003414]),\n",
              " array([0.28183124, 0.4334817 , 0.87524915]),\n",
              " array([0.28692884, 0.61529461, 0.5889078 ]),\n",
              " array([0.32591729, 0.5905734 , 0.57922975]),\n",
              " array([0.24580736, 0.63305542, 0.58646716]),\n",
              " array([0.31016025, 0.6286613 , 0.60670633]),\n",
              " array([0.22961158, 0.61898051, 0.5536808 ]),\n",
              " array([0.06654172, 0.44793484, 0.34740157]),\n",
              " array([0.1069041 , 0.33406559, 0.2449144 ]),\n",
              " array([0.3020996 , 0.59295722, 0.58178752]),\n",
              " array([0.19364748, 0.65181139, 0.62330616]),\n",
              " array([0.32796579, 0.6538362 , 0.63739265]),\n",
              " array([0.09495837, 0.34368224, 0.2502518 ]),\n",
              " array([0.10332796, 0.40721068, 0.29449303]),\n",
              " array([0.10859109, 0.63005523, 0.58115502]),\n",
              " array([0.15393741, 0.50230399, 0.45334279]),\n",
              " array([0.34796143, 0.59927269, 0.61991178]),\n",
              " array([0.29180401, 0.4300507 , 0.873861  ]),\n",
              " array([0.11456404, 0.56190082, 0.59411307]),\n",
              " array([0.20369649, 0.42570169, 0.45201031]),\n",
              " array([0.07445317, 0.28723278, 0.26717486]),\n",
              " array([0.19878761, 0.22770657, 0.62071729]),\n",
              " array([0.26983257, 0.4569636 , 0.86665194]),\n",
              " array([0.12586086, 0.29259075, 0.50582658]),\n",
              " array([0.37285305, 0.39895014, 0.84848783]),\n",
              " array([0.24649048, 0.59806341, 0.56661814]),\n",
              " array([0.27370754, 0.53258409, 0.7832253 ]),\n",
              " array([0.17114777, 0.57468206, 0.53209917]),\n",
              " array([0.31496853, 0.45981734, 0.81685345]),\n",
              " array([0.48025509, 0.63563689, 0.63372421]),\n",
              " array([0.18431787, 0.57767606, 0.56437564]),\n",
              " array([0.23506956, 0.62625216, 0.60197245]),\n",
              " array([0.12940415, 0.55074378, 0.50188802]),\n",
              " array([0.10608949, 0.3624846 , 0.45335618]),\n",
              " array([0.11573254, 0.33184913, 0.45362098]),\n",
              " array([0.26565438, 0.23590113, 0.8676917 ]),\n",
              " array([0.12465157, 0.59097014, 0.56477881]),\n",
              " array([0.21353367, 0.17396621, 0.81051272]),\n",
              " array([0.20788111, 0.23056112, 0.85728612]),\n",
              " array([0.25790711, 0.56862914, 0.56626264]),\n",
              " array([0.28560728, 0.48020849, 0.82997424]),\n",
              " array([0.04300713, 0.46688461, 0.50921199]),\n",
              " array([0.17385729, 0.51662327, 0.56355861]),\n",
              " array([0.26233399, 0.51687257, 0.6276499 ]),\n",
              " array([0.26037765, 0.33325074, 0.73531263]),\n",
              " array([0.3037166 , 0.3673807 , 0.82333318]),\n",
              " array([0.37707185, 0.54223268, 0.82987055]),\n",
              " array([0.36048704, 0.43860431, 0.86218316]),\n",
              " array([0.15915542, 0.32961859, 0.45949933]),\n",
              " array([0.03716286, 0.44123776, 0.48438772]),\n",
              " array([0.27337705, 0.50706971, 0.66035822]),\n",
              " array([0.19490958, 0.58293011, 0.5798644 ]),\n",
              " array([0.07643763, 0.49366319, 0.48453148]),\n",
              " array([0.11913496, 0.42164643, 0.40344598]),\n",
              " array([0.03267522, 0.45488315, 0.51438651]),\n",
              " array([0.09689966, 0.52164052, 0.4864415 ]),\n",
              " array([0.07232784, 0.39311573, 0.33022677]),\n",
              " array([0.30383972, 0.50056134, 0.82530528]),\n",
              " array([0.09834113, 0.52363444, 0.49586896]),\n",
              " array([0.30376297, 0.53117247, 0.75182879]),\n",
              " array([0.23854367, 0.43060717, 0.84622206]),\n",
              " array([0.17776218, 0.52640924, 0.51848427]),\n",
              " array([0.21196206, 0.55014967, 0.55176854]),\n",
              " array([0.19250243, 0.46355093, 0.76230884]),\n",
              " array([0.17236642, 0.47105062, 0.80610178]),\n",
              " array([0.10943215, 0.5245077 , 0.47520056]),\n",
              " array([0.27336   , 0.41764781, 0.88618185]),\n",
              " array([0.21355202, 0.69005342, 0.66619198]),\n",
              " array([0.27649171, 0.38634974, 0.90688276]),\n",
              " array([0.27028167, 0.52484341, 0.77275167]),\n",
              " array([0.27940034, 0.40699073, 0.90273352]),\n",
              " array([0.2867599 , 0.64975171, 0.6594732 ]),\n",
              " array([0.30663712, 0.66722398, 0.67079209]),\n",
              " array([0.25213143, 0.44806783, 0.8300649 ]),\n",
              " array([0.25894523, 0.4895322 , 0.79775064]),\n",
              " array([0.30922079, 0.39430896, 0.89231031]),\n",
              " array([0.34356074, 0.62968158, 0.64678252]),\n",
              " array([0.21477622, 0.6554924 , 0.60922743]),\n",
              " array([0.3383124 , 0.62291634, 0.61833428]),\n",
              " array([0.07255395, 0.51255648, 0.441162  ]),\n",
              " array([0.13401779, 0.43150461, 0.3366594 ]),\n",
              " array([0.09732318, 0.42615922, 0.31354025]),\n",
              " array([0.093698  , 0.32341716, 0.36749026]),\n",
              " array([0.12931724, 0.58923924, 0.56110955]),\n",
              " array([0.34643612, 0.47359856, 0.61171183]),\n",
              " array([0.20640195, 0.46206732, 0.79628342]),\n",
              " array([0.28879819, 0.63303642, 0.63931348]),\n",
              " array([0.19413797, 0.64258149, 0.60914185]),\n",
              " array([0.26227916, 0.62967538, 0.63746994]),\n",
              " array([0.33524092, 0.47544542, 0.85640358]),\n",
              " array([0.20294628, 0.31752066, 0.54075195]),\n",
              " array([0.24868706, 0.60064339, 0.59942516]),\n",
              " array([0.28282123, 0.40115234, 0.90181269]),\n",
              " array([0.31528214, 0.67622297, 0.64844699]),\n",
              " array([0.10396208, 0.49654958, 0.40150396]),\n",
              " array([0.15853283, 0.60224905, 0.58034218]),\n",
              " array([0.27696347, 0.33710529, 0.88247459]),\n",
              " array([0.08546929, 0.58927619, 0.61827523]),\n",
              " array([0.1351841 , 0.58171354, 0.52907297]),\n",
              " array([0.07522522, 0.54742039, 0.51830325]),\n",
              " array([0.23835904, 0.49239539, 0.76276529]),\n",
              " array([0.10253547, 0.5607346 , 0.52587389]),\n",
              " array([0.22181914, 0.61015086, 0.5842598 ]),\n",
              " array([0.28007097, 0.55458222, 0.74535388]),\n",
              " array([0.2238702 , 0.4344242 , 0.87827195]),\n",
              " array([0.30791284, 0.6703592 , 0.69653494]),\n",
              " array([0.08885451, 0.50922744, 0.45538336]),\n",
              " array([0.34673438, 0.32035869, 0.93530647]),\n",
              " array([0.34250982, 0.66006113, 0.69793597]),\n",
              " array([0.25906446, 0.40534369, 0.90192689]),\n",
              " array([0.38748395, 0.63630676, 0.63671415]),\n",
              " array([0.36923814, 0.72426123, 0.70481425]),\n",
              " array([0.23804719, 0.64001313, 0.57482579]),\n",
              " array([0.30192448, 0.5165624 , 0.7511379 ]),\n",
              " array([0.27453372, 0.66192499, 0.61638448]),\n",
              " array([0.37103872, 0.54658069, 0.82567996]),\n",
              " array([0.12883246, 0.5432546 , 0.45199192]),\n",
              " array([0.29353313, 0.62109315, 0.57716331]),\n",
              " array([0.27655788, 0.62142981, 0.57111411]),\n",
              " array([0.07196448, 0.37778069, 0.4138129 ]),\n",
              " array([0.12358288, 0.50016503, 0.49506938]),\n",
              " array([0.1975338 , 0.56651434, 0.55422254]),\n",
              " array([0.27544855, 0.46539864, 0.8476834 ]),\n",
              " array([0.05288138, 0.47603449, 0.48325848]),\n",
              " array([0.07314918, 0.39597498, 0.39175362]),\n",
              " array([0.29686792, 0.67600217, 0.64453304]),\n",
              " array([0.29601032, 0.64826268, 0.641595  ]),\n",
              " array([0.26590478, 0.45258646, 0.87049299]),\n",
              " array([0.19894109, 0.51426207, 0.43544535]),\n",
              " array([0.0282138 , 0.50687135, 0.56257766]),\n",
              " array([0.41705426, 0.62918091, 0.63629272]),\n",
              " array([0.26295562, 0.67074349, 0.64754485]),\n",
              " array([0.28776368, 0.69223582, 0.66270667]),\n",
              " array([0.25838063, 0.53308119, 0.56116916]),\n",
              " array([0.3990027 , 0.46272827, 0.87820493]),\n",
              " array([0.04754639, 0.58990326, 0.54376275]),\n",
              " array([0.24539118, 0.29003634, 0.86734715]),\n",
              " array([0.26820011, 0.47305971, 0.89841811]),\n",
              " array([0.29529319, 0.65442372, 0.64962412]),\n",
              " array([0.11985939, 0.35269829, 0.29294345]),\n",
              " array([0.12709548, 0.58582123, 0.53698346]),\n",
              " array([0.17851795, 0.68123565, 0.6578064 ]),\n",
              " array([0.17728477, 0.66371701, 0.6321037 ]),\n",
              " array([0.11022232, 0.54238044, 0.5484626 ]),\n",
              " array([0.33983657, 0.66381691, 0.67739298]),\n",
              " array([0.18887272, 0.40527737, 0.86226911]),\n",
              " array([0.34456723, 0.61573292, 0.66138593]),\n",
              " array([0.29033239, 0.62027438, 0.62601148]),\n",
              " array([0.22499684, 0.64670741, 0.62801854]),\n",
              " array([0.07686661, 0.55853877, 0.54329292]),\n",
              " array([0.17130188, 0.58448715, 0.57167439]),\n",
              " array([0.07622695, 0.56902697, 0.57284172]),\n",
              " array([0.09811048, 0.58659991, 0.57561806]),\n",
              " array([0.1438592 , 0.16296527, 0.53931557]),\n",
              " array([0.32502911, 0.35837411, 0.88382604]),\n",
              " array([0.34034994, 0.61536512, 0.60582868]),\n",
              " array([0.16070224, 0.62125572, 0.57010534]),\n",
              " array([0.33410957, 0.48999517, 0.85170421]),\n",
              " array([0.30147103, 0.58727124, 0.5645515 ]),\n",
              " array([0.09730762, 0.61463311, 0.53371272]),\n",
              " array([0.34971833, 0.42502327, 0.82249649]),\n",
              " array([0.29560521, 0.64954059, 0.65384725]),\n",
              " array([0.12232725, 0.59963207, 0.58553831]),\n",
              " array([0.05945777, 0.48638745, 0.5488161 ]),\n",
              " array([0.30418497, 0.42664614, 0.67021085]),\n",
              " array([0.21850488, 0.46628606, 0.40715711]),\n",
              " array([0.30951553, 0.65532838, 0.58629743]),\n",
              " array([0.27640485, 0.65378888, 0.63466894]),\n",
              " array([0.13785848, 0.46429192, 0.38269911]),\n",
              " array([0.04224652, 0.57984705, 0.48909516]),\n",
              " array([0.27998496, 0.42151144, 0.79821117]),\n",
              " array([0.26263031, 0.67576014, 0.65015699]),\n",
              " array([0.29595473, 0.49956928, 0.8265127 ]),\n",
              " array([0.22915868, 0.61388972, 0.60264277]),\n",
              " array([0.20254626, 0.40202219, 0.78814694]),\n",
              " array([0.09322941, 0.51742642, 0.57043326]),\n",
              " array([0.06169774, 0.50511768, 0.58819488]),\n",
              " array([0.09024157, 0.62216731, 0.5634952 ]),\n",
              " array([0.2261688 , 0.66236578, 0.63727964]),\n",
              " array([0.27532126, 0.30468469, 0.87315883]),\n",
              " array([0.1776392 , 0.6402526 , 0.60013122]),\n",
              " array([0.33965882, 0.66323744, 0.66152699]),\n",
              " array([0.29843518, 0.64967282, 0.66090298]),\n",
              " array([0.23122135, 0.31868828, 0.83494472]),\n",
              " array([0.31172929, 0.48207617, 0.77295757]),\n",
              " array([0.19755847, 0.5752342 , 0.53414659]),\n",
              " array([0.325232  , 0.56954097, 0.77199029]),\n",
              " array([0.30971673, 0.46989624, 0.85945392]),\n",
              " array([0.28551124, 0.5928066 , 0.57429957]),\n",
              " array([0.12684941, 0.51277379, 0.46598991]),\n",
              " array([0.28534938, 0.48696962, 0.86414744]),\n",
              " array([0.1942092 , 0.59593842, 0.53080559]),\n",
              " array([0.04646667, 0.35279242, 0.37086029]),\n",
              " array([0.09836619, 0.57916528, 0.50589688]),\n",
              " array([0.18435898, 0.54894362, 0.56217042]),\n",
              " array([0.2464546 , 0.32840528, 0.77821986]),\n",
              " array([0.20233463, 0.33566032, 0.49142305]),\n",
              " array([0.11110762, 0.41477061, 0.30469236]),\n",
              " array([0.25322299, 0.56460262, 0.589488  ]),\n",
              " array([0.35370632, 0.58870411, 0.62845993]),\n",
              " array([0.16403962, 0.30572105, 0.68695948]),\n",
              " array([0.17480061, 0.64767496, 0.61064398]),\n",
              " array([0.11861455, 0.57727048, 0.59505979]),\n",
              " array([0.15898091, 0.6176993 , 0.61776244]),\n",
              " array([0.30269959, 0.35343471, 0.87368437]),\n",
              " array([0.21143195, 0.45746996, 0.50400733]),\n",
              " array([0.26471784, 0.56208904, 0.48469445]),\n",
              " array([0.31356573, 0.53554487, 0.83380305]),\n",
              " array([0.31945481, 0.65735667, 0.63816188]),\n",
              " array([0.08402974, 0.54251557, 0.44208127]),\n",
              " array([0.06429725, 0.4353527 , 0.40224302]),\n",
              " array([0.0794255 , 0.59047635, 0.57492465]),\n",
              " array([0.33254645, 0.32178408, 0.90429489]),\n",
              " array([0.29984036, 0.64382166, 0.67283873]),\n",
              " array([0.0504138 , 0.53650751, 0.55513303]),\n",
              " array([0.2665757 , 0.35024315, 0.88969611]),\n",
              " array([0.26949931, 0.47830014, 0.8581282 ]),\n",
              " array([0.24998725, 0.44948164, 0.85224907]),\n",
              " array([0.07676156, 0.21816198, 0.21462379]),\n",
              " array([0.15196256, 0.26545411, 0.42248898]),\n",
              " array([0.05533375, 0.54509452, 0.57784287]),\n",
              " array([0.03320975, 0.50657763, 0.55492479]),\n",
              " array([0.04423647, 0.4938655 , 0.5685953 ]),\n",
              " array([0.29923244, 0.68571816, 0.71725325]),\n",
              " array([0.24889913, 0.39851179, 0.89249352]),\n",
              " array([0.25774497, 0.53148743, 0.50678049]),\n",
              " array([0.09655923, 0.44149227, 0.48168401]),\n",
              " array([0.06131641, 0.25632266, 0.24409046]),\n",
              " array([0.12704184, 0.557663  , 0.50143148]),\n",
              " array([0.24744445, 0.64497511, 0.63276669]),\n",
              " array([0.17975279, 0.51025088, 0.81034763]),\n",
              " array([0.20716993, 0.50934523, 0.87236327]),\n",
              " array([0.13020917, 0.59974029, 0.57653525]),\n",
              " array([0.19804617, 0.62742758, 0.63238802]),\n",
              " array([0.29625199, 0.60823465, 0.66161683]),\n",
              " array([0.08698865, 0.60778779, 0.55608557]),\n",
              " array([0.28425364, 0.65740766, 0.64638401]),\n",
              " array([0.08789919, 0.62286433, 0.56313986]),\n",
              " array([0.24253148, 0.40819485, 0.88622116]),\n",
              " array([0.20617241, 0.63746061, 0.63791309]),\n",
              " array([0.29824868, 0.68099508, 0.67208897]),\n",
              " array([0.28420606, 0.31427297, 0.82925227]),\n",
              " array([0.11992555, 0.57140016, 0.51808996]),\n",
              " array([0.04567656, 0.54715293, 0.52477356]),\n",
              " array([0.35796216, 0.47944056, 0.87573668]),\n",
              " array([0.34887927, 0.61540292, 0.65346837]),\n",
              " array([0.10549991, 0.51491116, 0.42342481]),\n",
              " array([0.05596998, 0.4624406 , 0.39573344]),\n",
              " array([0.32956331, 0.64212916, 0.67656827]),\n",
              " array([0.26854469, 0.39829139, 0.86609915]),\n",
              " array([0.27015477, 0.42852616, 0.85947377]),\n",
              " array([0.14735109, 0.63276678, 0.57801231]),\n",
              " array([0.18922095, 0.64233736, 0.62541791]),\n",
              " array([0.36400769, 0.65583403, 0.64457698]),\n",
              " array([0.17774757, 0.67500044, 0.63927491]),\n",
              " array([0.2001421 , 0.5816851 , 0.56669252]),\n",
              " array([0.08888553, 0.47562578, 0.48798106]),\n",
              " array([0.07785378, 0.60928608, 0.61360929]),\n",
              " array([0.34186491, 0.6652766 , 0.67499974]),\n",
              " array([0.04191799, 0.38703339, 0.35128972]),\n",
              " array([0.2764631 , 0.45029443, 0.78424357]),\n",
              " array([0.22897886, 0.60797315, 0.57310633]),\n",
              " array([0.13781357, 0.62222717, 0.55515966]),\n",
              " array([0.24637755, 0.59752386, 0.57000239]),\n",
              " array([0.09789125, 0.5867533 , 0.6238656 ]),\n",
              " array([0.23263696, 0.70069294, 0.69423885]),\n",
              " array([0.05323688, 0.26469612, 0.21181386]),\n",
              " array([0.15431839, 0.67100452, 0.64946549]),\n",
              " array([0.20670799, 0.63430545, 0.58309573]),\n",
              " array([0.28700387, 0.31282949, 0.7945285 ]),\n",
              " array([0.21974091, 0.67110886, 0.62751071]),\n",
              " array([0.25603351, 0.65266161, 0.60160595]),\n",
              " array([0.11895787, 0.36200697, 0.68106195]),\n",
              " array([0.08423744, 0.53946823, 0.51106135]),\n",
              " array([0.24727342, 0.51675875, 0.47697157]),\n",
              " array([0.04261367, 0.52585254, 0.44248735]),\n",
              " array([0.29939433, 0.66870557, 0.69522243]),\n",
              " array([0.25433055, 0.67992454, 0.64865014]),\n",
              " array([0.24397114, 0.53425697, 0.82090328]),\n",
              " array([0.3086132 , 0.66363206, 0.66024479]),\n",
              " array([0.33790683, 0.61532417, 0.66263243]),\n",
              " array([0.1656903 , 0.58154176, 0.53443845]),\n",
              " array([0.06800183, 0.4417899 , 0.50773457]),\n",
              " array([0.31409213, 0.66882881, 0.65523211]),\n",
              " array([0.29423254, 0.66151332, 0.64255228]),\n",
              " array([0.35911733, 0.65941128, 0.65417364]),\n",
              " array([0.35664477, 0.68095089, 0.66851919]),\n",
              " array([0.22250503, 0.6035791 , 0.56776292]),\n",
              " array([0.19811331, 0.61777552, 0.5732165 ]),\n",
              " array([0.20840902, 0.36881616, 0.87224465]),\n",
              " array([0.13609537, 0.45444315, 0.40170997]),\n",
              " array([0.13026117, 0.36685136, 0.36303343]),\n",
              " array([0.203402  , 0.47466675, 0.43706531]),\n",
              " array([0.33879738, 0.65325491, 0.65185339]),\n",
              " array([0.30676522, 0.59835709, 0.6125406 ]),\n",
              " array([0.23878583, 0.62230278, 0.59984531]),\n",
              " array([0.35671886, 0.36854961, 0.81317748]),\n",
              " array([0.4380651 , 0.62292705, 0.6357322 ]),\n",
              " array([0.27175896, 0.64257109, 0.62641947]),\n",
              " array([0.28048783, 0.47518741, 0.47233534]),\n",
              " array([0.27252737, 0.32134485, 0.83260144]),\n",
              " array([0.33611378, 0.47225282, 0.7686738 ]),\n",
              " array([0.17928072, 0.6335166 , 0.61335081]),\n",
              " array([0.19289244, 0.64599937, 0.61155231]),\n",
              " array([0.3826454 , 0.57454914, 0.73752865]),\n",
              " array([0.09225052, 0.46471311, 0.39808541]),\n",
              " array([0.08732952, 0.52415171, 0.55269499]),\n",
              " array([0.0947521 , 0.5070075 , 0.58890529]),\n",
              " array([0.16022226, 0.44655749, 0.3945083 ]),\n",
              " array([0.24874367, 0.46335091, 0.42460064]),\n",
              " array([0.26511306, 0.50916286, 0.46728383]),\n",
              " array([0.25020375, 0.59511852, 0.5349906 ]),\n",
              " array([0.06875747, 0.54991782, 0.59046291]),\n",
              " array([0.34265563, 0.55733128, 0.52720264]),\n",
              " array([0.30201859, 0.64100999, 0.59252194]),\n",
              " array([0.39655705, 0.50614263, 0.57303534]),\n",
              " array([0.42772185, 0.51216689, 0.71711279]),\n",
              " array([0.29497788, 0.49289292, 0.8066697 ]),\n",
              " array([0.22373041, 0.62203022, 0.59323867]),\n",
              " array([0.19775881, 0.57452056, 0.5182729 ]),\n",
              " array([0.41387685, 0.58050627, 0.56699343]),\n",
              " array([0.31869531, 0.31502087, 0.85883592]),\n",
              " array([0.08073974, 0.17075559, 0.35798529]),\n",
              " array([0.03367773, 0.08665854, 0.28763432]),\n",
              " array([0.25628245, 0.40017679, 0.86974859]),\n",
              " array([0.25164643, 0.64456897, 0.66274243]),\n",
              " array([0.10235025, 0.56574   , 0.53637375]),\n",
              " array([0.08593429, 0.47338888, 0.57203088]),\n",
              " array([0.06520217, 0.49274082, 0.56736676]),\n",
              " array([0.15468148, 0.48568914, 0.41731656]),\n",
              " array([0.07071461, 0.48669186, 0.48414494]),\n",
              " array([0.10139644, 0.50091874, 0.54548051]),\n",
              " array([0.15667832, 0.51116849, 0.48160164]),\n",
              " array([0.24493317, 0.6216272 , 0.59528916]),\n",
              " array([0.25779426, 0.37950012, 0.86444535]),\n",
              " array([0.27298676, 0.3959558 , 0.86900851]),\n",
              " array([0.17605946, 0.66767586, 0.62727004]),\n",
              " array([0.31494721, 0.71118141, 0.70679984]),\n",
              " array([0.30192121, 0.64214852, 0.62943406]),\n",
              " array([0.30929561, 0.36390017, 0.86258406]),\n",
              " array([0.30887637, 0.28282127, 0.85385238]),\n",
              " array([0.3616208 , 0.66131197, 0.66280251]),\n",
              " array([0.22867559, 0.58953555, 0.54481619]),\n",
              " array([0.0433088 , 0.50310926, 0.53023883]),\n",
              " array([0.07737159, 0.09277829, 0.44510321]),\n",
              " array([0.10965855, 0.58468679, 0.54647976]),\n",
              " array([0.29321024, 0.47192265, 0.8517597 ]),\n",
              " array([0.27959759, 0.60491409, 0.61517836]),\n",
              " array([0.32155538, 0.61372065, 0.60596152]),\n",
              " array([0.16669009, 0.60746129, 0.52647269]),\n",
              " array([0.09857768, 0.45637364, 0.33990427]),\n",
              " array([0.14430496, 0.50109643, 0.42293272]),\n",
              " array([0.0801786 , 0.55598703, 0.59937313]),\n",
              " array([0.11382183, 0.57417024, 0.54112578]),\n",
              " array([0.20015244, 0.64517196, 0.61607574]),\n",
              " array([0.0627328 , 0.56066232, 0.513523  ]),\n",
              " array([0.13580382, 0.5778957 , 0.59942091]),\n",
              " array([0.15078523, 0.51369218, 0.53774719]),\n",
              " array([0.08802144, 0.57247975, 0.58690895]),\n",
              " array([0.04695589, 0.55028945, 0.51293862]),\n",
              " array([0.28770287, 0.48590131, 0.832178  ]),\n",
              " array([0.29941113, 0.68201974, 0.68278222]),\n",
              " array([0.24315041, 0.68073508, 0.66141306]),\n",
              " array([0.16004054, 0.18637476, 0.38106987]),\n",
              " array([0.12936388, 0.20589545, 0.33626807]),\n",
              " array([0.06964975, 0.53233623, 0.50839397]),\n",
              " array([0.05960668, 0.56768898, 0.52652499]),\n",
              " array([0.20562853, 0.40318801, 0.76002698]),\n",
              " array([0.33241128, 0.57626903, 0.76053891]),\n",
              " array([0.2088211 , 0.57501959, 0.57861884]),\n",
              " array([0.05568184, 0.39654618, 0.39858048]),\n",
              " array([0.30259981, 0.58025876, 0.61476032]),\n",
              " array([0.3372331 , 0.54598239, 0.84664419]),\n",
              " array([0.29308518, 0.47325708, 0.85209189]),\n",
              " array([0.17085424, 0.60236743, 0.54970635]),\n",
              " array([0.1785524 , 0.55685731, 0.53755309]),\n",
              " array([0.3501083 , 0.63280736, 0.62732106]),\n",
              " array([0.30368399, 0.65760829, 0.63349034]),\n",
              " array([0.33247729, 0.62781666, 0.70710253]),\n",
              " array([0.28745636, 0.68869509, 0.66209547]),\n",
              " array([0.16644226, 0.47954442, 0.43655736]),\n",
              " array([0.11934081, 0.37328515, 0.32183936]),\n",
              " array([0.25160015, 0.46595056, 0.76883069]),\n",
              " array([0.27336796, 0.45940402, 0.876587  ]),\n",
              " array([0.26547842, 0.60958533, 0.59891223]),\n",
              " array([0.22229826, 0.65439438, 0.60702628]),\n",
              " array([0.32596304, 0.58968751, 0.67701637]),\n",
              " array([0.27337945, 0.33297392, 0.88946166]),\n",
              " array([0.36020926, 0.60724594, 0.66639661]),\n",
              " array([0.25863197, 0.58674934, 0.55652192]),\n",
              " array([0.19491452, 0.22890633, 0.65116066]),\n",
              " array([0.24673217, 0.5384331 , 0.50338974]),\n",
              " array([0.2290434 , 0.46844096, 0.48775964]),\n",
              " array([0.20830913, 0.44485008, 0.61294604]),\n",
              " array([0.0530181 , 0.3615228 , 0.40720363]),\n",
              " array([0.05240082, 0.24270752, 0.2025481 ]),\n",
              " array([0.35443029, 0.58077421, 0.54364571]),\n",
              " array([0.14489707, 0.56844431, 0.58895849]),\n",
              " array([0.26195938, 0.61979346, 0.58043882]),\n",
              " array([0.24978321, 0.50998972, 0.88093602]),\n",
              " array([0.3530371 , 0.61256853, 0.65808842]),\n",
              " array([0.21413411, 0.50379987, 0.85387367]),\n",
              " array([0.22861527, 0.5117431 , 0.87479267]),\n",
              " array([0.1578619 , 0.45524827, 0.40511039]),\n",
              " array([0.08480527, 0.50719592, 0.5424027 ]),\n",
              " array([0.27787874, 0.633216  , 0.64698058]),\n",
              " array([0.12060703, 0.62406648, 0.5904362 ]),\n",
              " array([0.21754425, 0.45155806, 0.42177759]),\n",
              " array([0.21436589, 0.50677131, 0.4664078 ]),\n",
              " array([0.30772115, 0.31494189, 0.83564421]),\n",
              " array([0.17244983, 0.29417421, 0.55569656]),\n",
              " array([0.07463145, 0.50508122, 0.6058499 ]),\n",
              " array([0.04616321, 0.47235578, 0.58902644]),\n",
              " array([0.23429632, 0.30524041, 0.75409716]),\n",
              " array([0.32086139, 0.57888567, 0.5946939 ]),\n",
              " array([0.27806084, 0.56834364, 0.6322188 ]),\n",
              " array([0.18934877, 0.31426564, 0.86990551]),\n",
              " array([0.23982886, 0.63406685, 0.60661008]),\n",
              " array([0.12897954, 0.51336199, 0.47845609]),\n",
              " array([0.14193238, 0.5534618 , 0.49556794]),\n",
              " array([0.07581191, 0.4061599 , 0.31324514]),\n",
              " array([0.12669302, 0.59288843, 0.52532382]),\n",
              " array([0.10094743, 0.53215852, 0.47791477]),\n",
              " array([0.22620929, 0.61792477, 0.60312882]),\n",
              " array([0.11697644, 0.61850238, 0.59024861]),\n",
              " array([0.16848754, 0.6803444 , 0.63905381]),\n",
              " array([0.06539607, 0.40732589, 0.30739987]),\n",
              " array([0.08598985, 0.57124859, 0.56604217]),\n",
              " array([0.11606249, 0.58856661, 0.60586198]),\n",
              " array([0.23094375, 0.67558792, 0.65356042]),\n",
              " array([0.26600935, 0.43500974, 0.87763762]),\n",
              " array([0.22976017, 0.44792446, 0.42865529]),\n",
              " array([0.29974965, 0.38325881, 0.84350284]),\n",
              " array([0.25455315, 0.52276585, 0.85149213]),\n",
              " array([0.28513772, 0.67149899, 0.66046182]),\n",
              " array([0.31395777, 0.3783789 , 0.87793026]),\n",
              " array([0.3547681 , 0.39447135, 0.91346892]),\n",
              " array([0.19712183, 0.57689105, 0.54283586]),\n",
              " array([0.35310951, 0.68719636, 0.67265006]),\n",
              " array([0.17772741, 0.62129799, 0.5614884 ]),\n",
              " array([0.28693515, 0.68688244, 0.6696934 ]),\n",
              " array([0.28731419, 0.62362055, 0.5684715 ]),\n",
              " array([0.14685888, 0.61867111, 0.55147951]),\n",
              " array([0.17913329, 0.30556625, 0.71593739]),\n",
              " array([0.30826733, 0.66619895, 0.65104566]),\n",
              " array([0.35515708, 0.48464031, 0.8401326 ]),\n",
              " array([0.29740028, 0.36244313, 0.86613669]),\n",
              " array([0.11973199, 0.59196615, 0.5404933 ]),\n",
              " array([0.10432805, 0.52329124, 0.50787977]),\n",
              " array([0.07716051, 0.51013292, 0.57515677]),\n",
              " array([0.08006374, 0.5585731 , 0.57023429]),\n",
              " array([0.15727254, 0.47376338, 0.43402667]),\n",
              " array([0.30024367, 0.6409031 , 0.57675191]),\n",
              " array([0.26315412, 0.61035772, 0.53562644]),\n",
              " array([0.36125955, 0.46861302, 0.81701862]),\n",
              " array([0.29647538, 0.59345201, 0.54786217]),\n",
              " array([0.05604324, 0.50288881, 0.48635079]),\n",
              " array([0.23485986, 0.38252529, 0.88944327]),\n",
              " array([0.22558515, 0.38577039, 0.90303179]),\n",
              " array([0.24716076, 0.45060307, 0.90583152]),\n",
              " array([0.25032117, 0.5528234 , 0.86131547]),\n",
              " array([0.19592186, 0.43892224, 0.47681401]),\n",
              " array([0.18488638, 0.22604768, 0.81710448]),\n",
              " array([0.29450196, 0.65142254, 0.68022054]),\n",
              " array([0.21141554, 0.53993466, 0.79117781]),\n",
              " array([0.03995875, 0.43704378, 0.40206846]),\n",
              " array([0.03255454, 0.50302751, 0.47140874]),\n",
              " array([0.26387975, 0.51144066, 0.84791212]),\n",
              " array([0.33432281, 0.64734032, 0.72542003]),\n",
              " array([0.3135405 , 0.57002578, 0.79023767]),\n",
              " array([0.22639341, 0.66945349, 0.63796623]),\n",
              " array([0.26212092, 0.34865593, 0.86171103]),\n",
              " array([0.31476199, 0.6592321 , 0.65197455]),\n",
              " array([0.25015315, 0.47373729, 0.85711851]),\n",
              " array([0.26761971, 0.65715368, 0.6175409 ]),\n",
              " array([0.24147209, 0.67417434, 0.62143954]),\n",
              " array([0.10320114, 0.63875415, 0.54792616]),\n",
              " array([0.26127035, 0.54584217, 0.81704606]),\n",
              " array([0.11883645, 0.58158178, 0.5339608 ]),\n",
              " array([0.1052348 , 0.51238274, 0.45869057]),\n",
              " array([0.16807608, 0.57897958, 0.55531129]),\n",
              " array([0.17961746, 0.54218542, 0.47218573]),\n",
              " array([0.18250409, 0.68258902, 0.65643977]),\n",
              " array([0.05649362, 0.5781006 , 0.55934706]),\n",
              " array([0.43961827, 0.611829  , 0.65665203]),\n",
              " array([0.34935556, 0.59244626, 0.76091187]),\n",
              " array([0.06423561, 0.35062807, 0.26180459]),\n",
              " array([0.14248702, 0.47297372, 0.35134863]),\n",
              " array([0.11011317, 0.48849951, 0.49306606]),\n",
              " array([0.04040244, 0.32803927, 0.25728135]),\n",
              " array([0.06968796, 0.50179502, 0.4346476 ]),\n",
              " array([0.31864273, 0.33615309, 0.87289468]),\n",
              " array([0.25678759, 0.62106119, 0.63682171]),\n",
              " array([0.33502528, 0.67526397, 0.67434603]),\n",
              " array([0.34575669, 0.66067888, 0.66983426]),\n",
              " array([0.1722343 , 0.55459609, 0.55820085]),\n",
              " array([0.25880639, 0.34814598, 0.88328128]),\n",
              " array([0.08580188, 0.59196001, 0.54374438]),\n",
              " array([0.08741095, 0.50112659, 0.53582924]),\n",
              " array([0.21254467, 0.650645  , 0.66135276]),\n",
              " array([0.27179989, 0.41845771, 0.87699786]),\n",
              " array([0.13061171, 0.56258128, 0.59675406]),\n",
              " array([0.25797632, 0.5798668 , 0.57135627]),\n",
              " array([0.26955302, 0.26845319, 0.8778026 ]),\n",
              " array([0.29237622, 0.6189862 , 0.61724483]),\n",
              " array([0.10080211, 0.57123651, 0.63534102]),\n",
              " array([0.36441579, 0.63343686, 0.68181115]),\n",
              " array([0.09067974, 0.50211692, 0.45998702]),\n",
              " array([0.43407009, 0.60902515, 0.63303132]),\n",
              " array([0.29054845, 0.31920325, 0.92159376]),\n",
              " array([0.17738706, 0.57237999, 0.5647159 ]),\n",
              " array([0.38400744, 0.59611334, 0.73937608]),\n",
              " array([0.28997721, 0.63468086, 0.66285211]),\n",
              " array([0.42901386, 0.55485157, 0.84740854]),\n",
              " array([0.39438997, 0.61246228, 0.61845791]),\n",
              " array([0.10243127, 0.48513236, 0.49191573]),\n",
              " array([0.12559212, 0.19227558, 0.62075455]),\n",
              " array([0.14750493, 0.53471254, 0.52941307]),\n",
              " array([0.30404471, 0.60129048, 0.61390914]),\n",
              " array([0.37596235, 0.62183112, 0.64381502]),\n",
              " array([0.10133978, 0.58793043, 0.53375842]),\n",
              " ...]"
            ]
          },
          "metadata": {},
          "execution_count": 103
        }
      ]
    },
    {
      "cell_type": "code",
      "source": [
        "Y = np.array([int(x[-1]) for x in data.id])\n",
        "Y"
      ],
      "metadata": {
        "colab": {
          "base_uri": "https://localhost:8080/"
        },
        "id": "Ah0KNmRfeFr3",
        "outputId": "c192880d-ae08-49f2-a261-6d7eb9276ca7"
      },
      "execution_count": 104,
      "outputs": [
        {
          "output_type": "execute_result",
          "data": {
            "text/plain": [
              "array([0, 1, 0, ..., 1, 2, 1])"
            ]
          },
          "metadata": {},
          "execution_count": 104
        }
      ]
    },
    {
      "cell_type": "code",
      "source": [
        "from sklearn import preprocessing\n",
        "from sklearn.model_selection import train_test_split\n",
        "from sklearn.neighbors import KNeighborsClassifier\n",
        "import matplotlib.pyplot as plt\n",
        "\n",
        "X_train, X_test, y_train, y_test = train_test_split(X, Y,test_size=0.2, random_state = 1)\n",
        "ACC = []\n",
        "for k in [1,2,3,4,5,6,7,8,9,10,15, 20,30,50,80,100]:\n",
        "\n",
        "  knn_clf=KNeighborsClassifier(n_neighbors=k)\n",
        "  knn_clf.fit(X_train,y_train)\n",
        "  ypred=knn_clf.predict(X_test) #These are the predicted output values\n",
        "\n",
        "  from sklearn.metrics import classification_report, confusion_matrix, accuracy_score\n",
        "\n",
        "\n",
        "  ACC.append(accuracy_score(y_test,ypred))\n"
      ],
      "metadata": {
        "id": "ifP4N-qgg_ZG"
      },
      "execution_count": 109,
      "outputs": []
    },
    {
      "cell_type": "code",
      "source": [
        "import matplotlib.pyplot as plt\n",
        "\n",
        "fig, ax = plt.subplots(figsize=(7, 4))\n",
        "ax.plot([1,2,3,4,5,6,7,8,9,10,15, 20,30,50,80,100], ACC)\n",
        "ax.set_xlabel(\"k\")\n",
        "ax.set_ylabel(\"accuracy\")\n",
        "fig.show()"
      ],
      "metadata": {
        "colab": {
          "base_uri": "https://localhost:8080/",
          "height": 279
        },
        "id": "TaGDzEiC4HGz",
        "outputId": "16dcf941-ef86-4ab1-85f7-9f984e85dbdf"
      },
      "execution_count": 132,
      "outputs": [
        {
          "output_type": "display_data",
          "data": {
            "text/plain": [
              "<Figure size 504x288 with 1 Axes>"
            ],
            "image/png": "[encoded data removed]"
          },
          "metadata": {
            "needs_background": "light"
          }
        }
      ]
    },
    {
      "cell_type": "code",
      "source": [
        "from sklearn import preprocessing\n",
        "from sklearn.model_selection import train_test_split\n",
        "from sklearn.svm import SVC\n",
        "import matplotlib.pyplot as plt\n",
        "\n",
        "\n",
        "knn_clf=SVC()\n",
        "knn_clf.fit(X_train,y_train)\n",
        "ypred=knn_clf.predict(X_test) #These are the predicted output values\n",
        "\n",
        "from sklearn.metrics import classification_report, confusion_matrix, accuracy_score\n",
        "\n",
        "result = confusion_matrix(y_test, ypred)\n",
        "print(\"Confusion Matrix:\")\n",
        "print(result)\n",
        "result1 = classification_report(y_test, ypred)\n",
        "print(\"Classification Report:\",)\n",
        "print (result1)\n",
        "result2 = accuracy_score(y_test,ypred)\n",
        "print(\"Accuracy:\",result2)"
      ],
      "metadata": {
        "colab": {
          "base_uri": "https://localhost:8080/"
        },
        "id": "v57HOZp70-Ei",
        "outputId": "73b155f0-a694-4831-c3bb-104fb5c55cf7"
      },
      "execution_count": 64,
      "outputs": [
        {
          "output_type": "stream",
          "name": "stdout",
          "text": [
            "Confusion Matrix:\n",
            "[[2507   16    0]\n",
            " [  11  512   38]\n",
            " [   0   44  333]]\n",
            "Classification Report:\n",
            "              precision    recall  f1-score   support\n",
            "\n",
            "           0       1.00      0.99      0.99      2523\n",
            "           1       0.90      0.91      0.90       561\n",
            "           2       0.90      0.88      0.89       377\n",
            "\n",
            "    accuracy                           0.97      3461\n",
            "   macro avg       0.93      0.93      0.93      3461\n",
            "weighted avg       0.97      0.97      0.97      3461\n",
            "\n",
            "Accuracy: 0.9685062120774343\n"
          ]
        }
      ]
    },
    {
      "cell_type": "code",
      "source": [
        "from sklearn.tree import DecisionTreeClassifier\n",
        "from sklearn import preprocessing\n",
        "from sklearn.model_selection import train_test_split\n",
        "import matplotlib.pyplot as plt\n",
        "\n",
        "\n",
        "model = DecisionTreeClassifier(max_depth=70,random_state=0)\n",
        "model.fit(X_train,y_train)\n",
        "ypred=model.predict(X_test) #These are the predicted output values\n",
        "\n",
        "from sklearn.metrics import classification_report, confusion_matrix, accuracy_score\n",
        "\n",
        "result = confusion_matrix(y_test, ypred)\n",
        "print(\"Confusion Matrix:\")\n",
        "print(result)\n",
        "result1 = classification_report(y_test, ypred)\n",
        "print(\"Classification Report:\",)\n",
        "print (result1)\n",
        "result2 = accuracy_score(y_test,ypred)\n",
        "print(\"Accuracy:\",result2)"
      ],
      "metadata": {
        "colab": {
          "base_uri": "https://localhost:8080/"
        },
        "id": "osUt4W1v1H28",
        "outputId": "a893e09c-23d2-4a73-a8fc-4c298516ff79"
      },
      "execution_count": 78,
      "outputs": [
        {
          "output_type": "stream",
          "name": "stdout",
          "text": [
            "Confusion Matrix:\n",
            "[[2496   27    0]\n",
            " [  19  478   64]\n",
            " [   0   62  315]]\n",
            "Classification Report:\n",
            "              precision    recall  f1-score   support\n",
            "\n",
            "           0       0.99      0.99      0.99      2523\n",
            "           1       0.84      0.85      0.85       561\n",
            "           2       0.83      0.84      0.83       377\n",
            "\n",
            "    accuracy                           0.95      3461\n",
            "   macro avg       0.89      0.89      0.89      3461\n",
            "weighted avg       0.95      0.95      0.95      3461\n",
            "\n",
            "Accuracy: 0.9503033805258596\n"
          ]
        }
      ]
    },
    {
      "cell_type": "code",
      "source": [
        "from sklearn import preprocessing\n",
        "from sklearn.model_selection import train_test_split\n",
        "from sklearn.ensemble import RandomForestClassifier\n",
        "import matplotlib.pyplot as plt\n",
        "\n",
        "knn_clf=RandomForestClassifier(n_estimators=200, random_state=2)\n",
        "knn_clf.fit(X_train,y_train)\n",
        "ypred=knn_clf.predict(X_test) #These are the predicted output values\n",
        "\n",
        "from sklearn.metrics import classification_report, confusion_matrix, accuracy_score\n",
        "\n",
        "result = confusion_matrix(y_test, ypred)\n",
        "print(\"Confusion Matrix:\")\n",
        "print(result)\n",
        "result1 = classification_report(y_test, ypred)\n",
        "print(\"Classification Report:\",)\n",
        "print (result1)\n",
        "result2 = accuracy_score(y_test,ypred)\n",
        "print(\"Accuracy:\",result2)"
      ],
      "metadata": {
        "colab": {
          "base_uri": "https://localhost:8080/"
        },
        "id": "eEa1zHhf18Pv",
        "outputId": "d17f06e5-d30d-4b77-d91e-ec8b9a00ead1"
      },
      "execution_count": 83,
      "outputs": [
        {
          "output_type": "stream",
          "name": "stdout",
          "text": [
            "Confusion Matrix:\n",
            "[[2506   17    0]\n",
            " [  17  499   45]\n",
            " [   0   49  328]]\n",
            "Classification Report:\n",
            "              precision    recall  f1-score   support\n",
            "\n",
            "           0       0.99      0.99      0.99      2523\n",
            "           1       0.88      0.89      0.89       561\n",
            "           2       0.88      0.87      0.87       377\n",
            "\n",
            "    accuracy                           0.96      3461\n",
            "   macro avg       0.92      0.92      0.92      3461\n",
            "weighted avg       0.96      0.96      0.96      3461\n",
            "\n",
            "Accuracy: 0.9630164692285467\n"
          ]
        }
      ]
    },
    {
      "cell_type": "code",
      "source": [
        "import matplotlib.pyplot as plt\n",
        "fig = plt.figure(1, [7, 4])\n",
        "model_name = ['KNN', 'SVM', 'Decision Tree', 'Random Forest']\n",
        "acc = [0.9656168737359144,0.9685062120774343,0.9503033805258596,0.9630164692285467]\n",
        "plt.bar(model_name,acc)\n",
        "plt.ylabel('accuracy')\n",
        "plt.show()"
      ],
      "metadata": {
        "colab": {
          "base_uri": "https://localhost:8080/",
          "height": 266
        },
        "id": "v9Eqvd45pxcD",
        "outputId": "dae60965-7d66-4d66-a398-6656c74038dd"
      },
      "execution_count": 84,
      "outputs": [
        {
          "output_type": "display_data",
          "data": {
            "text/plain": [
              "<Figure size 504x288 with 1 Axes>"
            ],
            "image/png": "[encoded data removed]"
          },
          "metadata": {
            "needs_background": "light"
          }
        }
      ]
    },
    {
      "cell_type": "code",
      "source": [
        "labels = ['Pixel Ratio', 'RGB Feature Extraction']\n",
        "thresholds = [0.875, 0]\n",
        "KNN = [0.875, 0.9656168737359144]\n",
        "SVM = [0.84375 , 0.9656168737359144]\n",
        "Decision_Tree = [0.90625, 0.9685062120774343]\n",
        "Random_Forest = [0.90625, 0.9503033805258596]\n",
        "\n",
        "x = np.arange(len(labels))  # the label locations\n",
        "width = 0.35  # the width of the bars\n",
        "\n",
        "fig, ax = plt.subplots()\n",
        "plt.bar(x - 2*width/5, thresholds, width/5)\n",
        "plt.bar(x - width/5, KNN, width/5)\n",
        "plt.bar(x, SVM, width/5)\n",
        "plt.bar(x + width/5, Decision_Tree, width/5)\n",
        "plt.bar(x + 2*width/5, Random_Forest, width/5)\n",
        "\n",
        "# Add some text for labels, title and custom x-axis tick labels, etc\n",
        "plt.ylabel('accuracy')\n",
        "plt.xticks(x, labels)\n",
        "plt.legend(['Threshold', 'KNN', 'SVM', 'Decision_Tree','Random_Forest'])\n",
        "\n",
        "\n",
        "fig.tight_layout()\n",
        "\n",
        "plt.show()"
      ],
      "metadata": {
        "colab": {
          "base_uri": "https://localhost:8080/",
          "height": 297
        },
        "id": "5zWdCoNDqA6t",
        "outputId": "21982943-9400-436f-a1d5-780520ebc71f"
      },
      "execution_count": 88,
      "outputs": [
        {
          "output_type": "display_data",
          "data": {
            "text/plain": [
              "<Figure size 432x288 with 1 Axes>"
            ],
            "image/png": "[encoded data removed]"
          },
          "metadata": {
            "needs_background": "light"
          }
        }
      ]
    }
  ]
}